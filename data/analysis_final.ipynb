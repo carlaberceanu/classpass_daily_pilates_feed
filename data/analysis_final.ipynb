{
 "cells": [
  {
   "cell_type": "markdown",
   "id": "1eb60d9b-ddb3-4389-a47a-e3ce10296a79",
   "metadata": {},
   "source": [
    "# ClassPass Pilates Exploratory Data Analysis"
   ]
  },
  {
   "cell_type": "markdown",
   "id": "de2fd97e-f03c-4f86-ba8e-76e0998684f3",
   "metadata": {},
   "source": [
    "### Introduction"
   ]
  },
  {
   "cell_type": "markdown",
   "id": "7febcbb0-f9bb-46e8-8ba9-fcac7002ee06",
   "metadata": {},
   "source": [
    "The DataFrame contains information about available Pilates classes from various studios across London, scraped from the ClassPass website. There are approximately 323 studios offering a range of activities, in addition to Pilates.\n",
    "\n",
    "The objective is to identify the highest-rated studio (with a 5/5 rating) that offers Pilates classes, based on a large number of reviews. Once the top-rated studio is found, the goal is to explore the other types of classes they offer, determine which activities are the most popular, and then select a second activity to integrate into my routine at the top-rated studio that offers both.\n",
    "\n",
    "The analysis will be divided into several parts:\n",
    "\n",
    "1. Data Importing\n",
    "\n",
    "2. Data Cleaning\n",
    "\n",
    "3. Sorting\n",
    "\n",
    "4. Basic statistics\n",
    "\n",
    "5. EDA"
   ]
  },
  {
   "cell_type": "markdown",
   "id": "1adc0fef-3cf6-4070-92c8-da1328ae35c9",
   "metadata": {},
   "source": [
    "### Step 1: Imports"
   ]
  },
  {
   "cell_type": "code",
   "execution_count": 1,
   "id": "e10abd72-0254-404c-88f2-c80dcf0ef73e",
   "metadata": {},
   "outputs": [
    {
     "data": {
      "text/html": [
       "<div>\n",
       "<style scoped>\n",
       "    .dataframe tbody tr th:only-of-type {\n",
       "        vertical-align: middle;\n",
       "    }\n",
       "\n",
       "    .dataframe tbody tr th {\n",
       "        vertical-align: top;\n",
       "    }\n",
       "\n",
       "    .dataframe thead th {\n",
       "        text-align: right;\n",
       "    }\n",
       "</style>\n",
       "<table border=\"1\" class=\"dataframe\">\n",
       "  <thead>\n",
       "    <tr style=\"text-align: right;\">\n",
       "      <th></th>\n",
       "      <th>tags</th>\n",
       "      <th>pilates</th>\n",
       "      <th>name</th>\n",
       "      <th>location</th>\n",
       "      <th>avg_rating</th>\n",
       "      <th>num_ratings</th>\n",
       "    </tr>\n",
       "  </thead>\n",
       "  <tbody>\n",
       "    <tr>\n",
       "      <th>0</th>\n",
       "      <td>['pilates', ' strength training', ' …']</td>\n",
       "      <td>True</td>\n",
       "      <td>BLOK</td>\n",
       "      <td>Hearn St, London</td>\n",
       "      <td>4.8</td>\n",
       "      <td>(30000+)</td>\n",
       "    </tr>\n",
       "    <tr>\n",
       "      <th>1</th>\n",
       "      <td>['yoga', ' strength training', ' …']</td>\n",
       "      <td>False</td>\n",
       "      <td>Mission E1</td>\n",
       "      <td>7-9 Fashion Street, London</td>\n",
       "      <td>4.9</td>\n",
       "      <td>(20000+)</td>\n",
       "    </tr>\n",
       "    <tr>\n",
       "      <th>2</th>\n",
       "      <td>['strength training', ' pilates', ' …']</td>\n",
       "      <td>True</td>\n",
       "      <td>BLOK</td>\n",
       "      <td>The Tram Depot, 38-40 Upper Clapton Rd, London</td>\n",
       "      <td>4.8</td>\n",
       "      <td>(30000+)</td>\n",
       "    </tr>\n",
       "    <tr>\n",
       "      <th>3</th>\n",
       "      <td>['cycling', ' yoga', ' …']</td>\n",
       "      <td>False</td>\n",
       "      <td>3Tribes - Crouch End</td>\n",
       "      <td>71 Crouch End Hill, London</td>\n",
       "      <td>4.9</td>\n",
       "      <td>(30000+)</td>\n",
       "    </tr>\n",
       "    <tr>\n",
       "      <th>4</th>\n",
       "      <td>['strength training', ' boxing', ' …']</td>\n",
       "      <td>False</td>\n",
       "      <td>1Rebel</td>\n",
       "      <td>9 Holles Street, London</td>\n",
       "      <td>4.8</td>\n",
       "      <td>(30000+)</td>\n",
       "    </tr>\n",
       "  </tbody>\n",
       "</table>\n",
       "</div>"
      ],
      "text/plain": [
       "                                      tags  pilates                  name  \\\n",
       "0  ['pilates', ' strength training', ' …']     True                  BLOK   \n",
       "1     ['yoga', ' strength training', ' …']    False            Mission E1   \n",
       "2  ['strength training', ' pilates', ' …']     True                  BLOK   \n",
       "3               ['cycling', ' yoga', ' …']    False  3Tribes - Crouch End   \n",
       "4   ['strength training', ' boxing', ' …']    False                1Rebel   \n",
       "\n",
       "                                         location  avg_rating num_ratings  \n",
       "0                                Hearn St, London         4.8    (30000+)  \n",
       "1                      7-9 Fashion Street, London         4.9    (20000+)  \n",
       "2  The Tram Depot, 38-40 Upper Clapton Rd, London         4.8    (30000+)  \n",
       "3                      71 Crouch End Hill, London         4.9    (30000+)  \n",
       "4                         9 Holles Street, London         4.8    (30000+)  "
      ]
     },
     "execution_count": 1,
     "metadata": {},
     "output_type": "execute_result"
    }
   ],
   "source": [
    "import pandas as pd # Data manipulation\n",
    "import numpy as np # Algebra operations\n",
    "\n",
    "import matplotlib.pyplot as plt  # Matlab-style plotting\n",
    "import seaborn as sns\n",
    "\n",
    "\n",
    "# Load the dataset\n",
    "file_path = 'data/class_pass.csv'\n",
    "df = pd.read_csv(file_path)\n",
    "\n",
    "pd.set_option(\"display.precision\", 2)\n",
    "\n",
    "df.head()"
   ]
  },
  {
   "cell_type": "code",
   "execution_count": 2,
   "id": "a4a5268a-5b84-49b1-ab24-b768514f0ef4",
   "metadata": {},
   "outputs": [
    {
     "name": "stdout",
     "output_type": "stream",
     "text": [
      "<class 'pandas.core.frame.DataFrame'>\n",
      "RangeIndex: 323 entries, 0 to 322\n",
      "Data columns (total 6 columns):\n",
      " #   Column       Non-Null Count  Dtype  \n",
      "---  ------       --------------  -----  \n",
      " 0   tags         323 non-null    object \n",
      " 1   pilates      323 non-null    bool   \n",
      " 2   name         323 non-null    object \n",
      " 3   location     323 non-null    object \n",
      " 4   avg_rating   323 non-null    float64\n",
      " 5   num_ratings  323 non-null    object \n",
      "dtypes: bool(1), float64(1), object(4)\n",
      "memory usage: 13.1+ KB\n"
     ]
    }
   ],
   "source": [
    "df.info()"
   ]
  },
  {
   "cell_type": "code",
   "execution_count": 3,
   "id": "21bdca4f-e2ca-44ba-afde-ce4a1868ed61",
   "metadata": {},
   "outputs": [
    {
     "name": "stdout",
     "output_type": "stream",
     "text": [
      "(323, 6)\n"
     ]
    }
   ],
   "source": [
    "print(df.shape)"
   ]
  },
  {
   "cell_type": "markdown",
   "id": "d04d4c54-dbb0-4f6e-a316-adc798ae51a4",
   "metadata": {},
   "source": [
    "1 feature is logical (bool), 4 features are object and 1 feature is numeric. There are no missing values because each column contains 323 observations, the same number of rows as seen with .shape"
   ]
  },
  {
   "cell_type": "code",
   "execution_count": 4,
   "id": "b6a74f67-7baf-40f4-8a97-1534f7423fd0",
   "metadata": {},
   "outputs": [
    {
     "data": {
      "text/plain": [
       "array([ True, False])"
      ]
     },
     "execution_count": 4,
     "metadata": {},
     "output_type": "execute_result"
    }
   ],
   "source": [
    "df['pilates'].unique()"
   ]
  },
  {
   "cell_type": "markdown",
   "id": "1e141b84-4977-43b9-b5ce-8d64a979c7cd",
   "metadata": {},
   "source": [
    "I will change the column type from bool to integer to better analyse basic stats characteristics of each numerical feature further."
   ]
  },
  {
   "cell_type": "code",
   "execution_count": 5,
   "id": "a8bff8e8-8e06-4867-930d-d6fd5cfe04a2",
   "metadata": {},
   "outputs": [],
   "source": [
    "df['pilates'] = df['pilates'].astype(\"int64\")"
   ]
  },
  {
   "cell_type": "code",
   "execution_count": 6,
   "id": "0278a568-ef55-45c3-8b0c-0c488620ce31",
   "metadata": {},
   "outputs": [
    {
     "data": {
      "text/html": [
       "<div>\n",
       "<style scoped>\n",
       "    .dataframe tbody tr th:only-of-type {\n",
       "        vertical-align: middle;\n",
       "    }\n",
       "\n",
       "    .dataframe tbody tr th {\n",
       "        vertical-align: top;\n",
       "    }\n",
       "\n",
       "    .dataframe thead th {\n",
       "        text-align: right;\n",
       "    }\n",
       "</style>\n",
       "<table border=\"1\" class=\"dataframe\">\n",
       "  <thead>\n",
       "    <tr style=\"text-align: right;\">\n",
       "      <th></th>\n",
       "      <th>pilates</th>\n",
       "      <th>avg_rating</th>\n",
       "    </tr>\n",
       "  </thead>\n",
       "  <tbody>\n",
       "    <tr>\n",
       "      <th>count</th>\n",
       "      <td>323.00</td>\n",
       "      <td>323.00</td>\n",
       "    </tr>\n",
       "    <tr>\n",
       "      <th>mean</th>\n",
       "      <td>0.67</td>\n",
       "      <td>4.79</td>\n",
       "    </tr>\n",
       "    <tr>\n",
       "      <th>std</th>\n",
       "      <td>0.47</td>\n",
       "      <td>0.12</td>\n",
       "    </tr>\n",
       "    <tr>\n",
       "      <th>min</th>\n",
       "      <td>0.00</td>\n",
       "      <td>4.30</td>\n",
       "    </tr>\n",
       "    <tr>\n",
       "      <th>25%</th>\n",
       "      <td>0.00</td>\n",
       "      <td>4.70</td>\n",
       "    </tr>\n",
       "    <tr>\n",
       "      <th>50%</th>\n",
       "      <td>1.00</td>\n",
       "      <td>4.80</td>\n",
       "    </tr>\n",
       "    <tr>\n",
       "      <th>75%</th>\n",
       "      <td>1.00</td>\n",
       "      <td>4.90</td>\n",
       "    </tr>\n",
       "    <tr>\n",
       "      <th>max</th>\n",
       "      <td>1.00</td>\n",
       "      <td>5.00</td>\n",
       "    </tr>\n",
       "  </tbody>\n",
       "</table>\n",
       "</div>"
      ],
      "text/plain": [
       "       pilates  avg_rating\n",
       "count   323.00      323.00\n",
       "mean      0.67        4.79\n",
       "std       0.47        0.12\n",
       "min       0.00        4.30\n",
       "25%       0.00        4.70\n",
       "50%       1.00        4.80\n",
       "75%       1.00        4.90\n",
       "max       1.00        5.00"
      ]
     },
     "execution_count": 6,
     "metadata": {},
     "output_type": "execute_result"
    }
   ],
   "source": [
    "df.describe()"
   ]
  },
  {
   "cell_type": "markdown",
   "id": "4cd1e035-c0e8-484c-b3d5-00ad6b4ac537",
   "metadata": {},
   "source": [
    "Next I'll have to clean num_ratings column by removing non-numeric characters and converting to number"
   ]
  },
  {
   "cell_type": "markdown",
   "id": "5d20f4b9-c06d-4f99-b1e7-e0fe550543b8",
   "metadata": {},
   "source": [
    "### Step 2: Cleaning"
   ]
  },
  {
   "cell_type": "code",
   "execution_count": 7,
   "id": "9416a7d8-9544-4f00-9342-447280e71fe9",
   "metadata": {
    "scrolled": true
   },
   "outputs": [],
   "source": [
    "df['num_ratings'] = (df['num_ratings'].str.replace(r\"[^\\d]\", \"\", regex=True).astype(int))  "
   ]
  },
  {
   "cell_type": "code",
   "execution_count": 8,
   "id": "024228d1-e2ef-4115-9c22-ec6a36ed426a",
   "metadata": {},
   "outputs": [
    {
     "data": {
      "text/html": [
       "<div>\n",
       "<style scoped>\n",
       "    .dataframe tbody tr th:only-of-type {\n",
       "        vertical-align: middle;\n",
       "    }\n",
       "\n",
       "    .dataframe tbody tr th {\n",
       "        vertical-align: top;\n",
       "    }\n",
       "\n",
       "    .dataframe thead th {\n",
       "        text-align: right;\n",
       "    }\n",
       "</style>\n",
       "<table border=\"1\" class=\"dataframe\">\n",
       "  <thead>\n",
       "    <tr style=\"text-align: right;\">\n",
       "      <th></th>\n",
       "      <th>pilates</th>\n",
       "      <th>avg_rating</th>\n",
       "      <th>num_ratings</th>\n",
       "    </tr>\n",
       "  </thead>\n",
       "  <tbody>\n",
       "    <tr>\n",
       "      <th>count</th>\n",
       "      <td>323.00</td>\n",
       "      <td>323.00</td>\n",
       "      <td>323.00</td>\n",
       "    </tr>\n",
       "    <tr>\n",
       "      <th>mean</th>\n",
       "      <td>0.67</td>\n",
       "      <td>4.79</td>\n",
       "      <td>8891.61</td>\n",
       "    </tr>\n",
       "    <tr>\n",
       "      <th>std</th>\n",
       "      <td>0.47</td>\n",
       "      <td>0.12</td>\n",
       "      <td>10951.75</td>\n",
       "    </tr>\n",
       "    <tr>\n",
       "      <th>min</th>\n",
       "      <td>0.00</td>\n",
       "      <td>4.30</td>\n",
       "      <td>13.00</td>\n",
       "    </tr>\n",
       "    <tr>\n",
       "      <th>25%</th>\n",
       "      <td>0.00</td>\n",
       "      <td>4.70</td>\n",
       "      <td>500.00</td>\n",
       "    </tr>\n",
       "    <tr>\n",
       "      <th>50%</th>\n",
       "      <td>1.00</td>\n",
       "      <td>4.80</td>\n",
       "      <td>2500.00</td>\n",
       "    </tr>\n",
       "    <tr>\n",
       "      <th>75%</th>\n",
       "      <td>1.00</td>\n",
       "      <td>4.90</td>\n",
       "      <td>16250.00</td>\n",
       "    </tr>\n",
       "    <tr>\n",
       "      <th>max</th>\n",
       "      <td>1.00</td>\n",
       "      <td>5.00</td>\n",
       "      <td>30000.00</td>\n",
       "    </tr>\n",
       "  </tbody>\n",
       "</table>\n",
       "</div>"
      ],
      "text/plain": [
       "       pilates  avg_rating  num_ratings\n",
       "count   323.00      323.00       323.00\n",
       "mean      0.67        4.79      8891.61\n",
       "std       0.47        0.12     10951.75\n",
       "min       0.00        4.30        13.00\n",
       "25%       0.00        4.70       500.00\n",
       "50%       1.00        4.80      2500.00\n",
       "75%       1.00        4.90     16250.00\n",
       "max       1.00        5.00     30000.00"
      ]
     },
     "execution_count": 8,
     "metadata": {},
     "output_type": "execute_result"
    }
   ],
   "source": [
    "df.describe()"
   ]
  },
  {
   "cell_type": "markdown",
   "id": "68caa96d-0d9b-446d-bd6a-f07f67948b83",
   "metadata": {},
   "source": [
    "#### Determining outliers"
   ]
  },
  {
   "cell_type": "markdown",
   "id": "ceb8fd76-e15f-4683-a78a-431ae8a9943c",
   "metadata": {},
   "source": [
    "For num_ratings column the std is higher than the mean which could mean the values are wide spread and there are outliers. "
   ]
  },
  {
   "cell_type": "code",
   "execution_count": 126,
   "id": "63e2be9c-dfec-4f8d-9777-44f78fd77c7e",
   "metadata": {},
   "outputs": [
    {
     "data": {
      "image/png": "[encoded data removed]",
      "text/plain": [
       "<Figure size 640x480 with 1 Axes>"
      ]
     },
     "metadata": {},
     "output_type": "display_data"
    }
   ],
   "source": [
    "df['num_ratings'].hist(bins=50)\n",
    "plt.show()"
   ]
  },
  {
   "cell_type": "code",
   "execution_count": 10,
   "id": "0cb0b112-45e2-4f75-8fdd-a55a5fad4a5a",
   "metadata": {},
   "outputs": [
    {
     "data": {
      "image/png": "[encoded data removed]",
      "text/plain": [
       "<Figure size 640x480 with 1 Axes>"
      ]
     },
     "metadata": {},
     "output_type": "display_data"
    }
   ],
   "source": [
    "sns.boxplot(x=df['num_ratings'])\n",
    "plt.title(\"Box Plot\")\n",
    "plt.xlabel(\"Number of Ratings\")\n",
    "plt.show()"
   ]
  },
  {
   "cell_type": "markdown",
   "id": "7602a6ef-071f-47b1-bb19-474f90e0317e",
   "metadata": {},
   "source": [
    "#### Observations"
   ]
  },
  {
   "cell_type": "markdown",
   "id": "6ce2bcd2-4da6-4c51-9ab1-e82460d730e6",
   "metadata": {},
   "source": [
    "There are some studios that have very few ratings, close to 0, that are creating outliers."
   ]
  },
  {
   "cell_type": "markdown",
   "id": "858e3cd7-ab63-4278-a4d7-32dcc5328b8d",
   "metadata": {},
   "source": [
    "### Step 3: Sorting"
   ]
  },
  {
   "cell_type": "code",
   "execution_count": 11,
   "id": "bcda5247-2d35-4e38-9afa-6f8019b6936e",
   "metadata": {},
   "outputs": [
    {
     "data": {
      "text/html": [
       "<div>\n",
       "<style scoped>\n",
       "    .dataframe tbody tr th:only-of-type {\n",
       "        vertical-align: middle;\n",
       "    }\n",
       "\n",
       "    .dataframe tbody tr th {\n",
       "        vertical-align: top;\n",
       "    }\n",
       "\n",
       "    .dataframe thead th {\n",
       "        text-align: right;\n",
       "    }\n",
       "</style>\n",
       "<table border=\"1\" class=\"dataframe\">\n",
       "  <thead>\n",
       "    <tr style=\"text-align: right;\">\n",
       "      <th></th>\n",
       "      <th>tags</th>\n",
       "      <th>pilates</th>\n",
       "      <th>name</th>\n",
       "      <th>location</th>\n",
       "      <th>avg_rating</th>\n",
       "      <th>num_ratings</th>\n",
       "    </tr>\n",
       "  </thead>\n",
       "  <tbody>\n",
       "    <tr>\n",
       "      <th>314</th>\n",
       "      <td>['pilates']</td>\n",
       "      <td>1</td>\n",
       "      <td>Elite Reformer Pilates</td>\n",
       "      <td>16-17 Cockfosters Parade, Barnet</td>\n",
       "      <td>5.0</td>\n",
       "      <td>13</td>\n",
       "    </tr>\n",
       "    <tr>\n",
       "      <th>309</th>\n",
       "      <td>['pilates', ' yoga', ' …']</td>\n",
       "      <td>1</td>\n",
       "      <td>Truform Studio</td>\n",
       "      <td>248 High Street, Beckenham</td>\n",
       "      <td>4.8</td>\n",
       "      <td>19</td>\n",
       "    </tr>\n",
       "    <tr>\n",
       "      <th>315</th>\n",
       "      <td>['yoga', ' dance', ' …']</td>\n",
       "      <td>0</td>\n",
       "      <td>Dance With Me @The Hamptons</td>\n",
       "      <td>Hamptons Estate, Worcester Park, London</td>\n",
       "      <td>4.8</td>\n",
       "      <td>21</td>\n",
       "    </tr>\n",
       "    <tr>\n",
       "      <th>319</th>\n",
       "      <td>['dance', ' pilates', ' …']</td>\n",
       "      <td>1</td>\n",
       "      <td>The Cherish Club</td>\n",
       "      <td>Bridgeman Street, Westminster, London</td>\n",
       "      <td>4.9</td>\n",
       "      <td>23</td>\n",
       "    </tr>\n",
       "    <tr>\n",
       "      <th>320</th>\n",
       "      <td>['strength training', ' gym time', ' …']</td>\n",
       "      <td>0</td>\n",
       "      <td>The Edge Training</td>\n",
       "      <td>Willows Activity Farm, Coursers Road, St. Albans</td>\n",
       "      <td>4.9</td>\n",
       "      <td>27</td>\n",
       "    </tr>\n",
       "  </tbody>\n",
       "</table>\n",
       "</div>"
      ],
      "text/plain": [
       "                                         tags  pilates  \\\n",
       "314                               ['pilates']        1   \n",
       "309                ['pilates', ' yoga', ' …']        1   \n",
       "315                  ['yoga', ' dance', ' …']        0   \n",
       "319               ['dance', ' pilates', ' …']        1   \n",
       "320  ['strength training', ' gym time', ' …']        0   \n",
       "\n",
       "                            name  \\\n",
       "314       Elite Reformer Pilates   \n",
       "309               Truform Studio   \n",
       "315  Dance With Me @The Hamptons   \n",
       "319             The Cherish Club   \n",
       "320            The Edge Training   \n",
       "\n",
       "                                             location  avg_rating  num_ratings  \n",
       "314                  16-17 Cockfosters Parade, Barnet         5.0           13  \n",
       "309                        248 High Street, Beckenham         4.8           19  \n",
       "315           Hamptons Estate, Worcester Park, London         4.8           21  \n",
       "319             Bridgeman Street, Westminster, London         4.9           23  \n",
       "320  Willows Activity Farm, Coursers Road, St. Albans         4.9           27  "
      ]
     },
     "execution_count": 11,
     "metadata": {},
     "output_type": "execute_result"
    }
   ],
   "source": [
    "df.sort_values(by=\"num_ratings\", ascending=True).head()"
   ]
  },
  {
   "cell_type": "code",
   "execution_count": 12,
   "id": "2fa9ee32-751f-4665-9663-f36f2e3dad23",
   "metadata": {},
   "outputs": [
    {
     "data": {
      "text/html": [
       "<div>\n",
       "<style scoped>\n",
       "    .dataframe tbody tr th:only-of-type {\n",
       "        vertical-align: middle;\n",
       "    }\n",
       "\n",
       "    .dataframe tbody tr th {\n",
       "        vertical-align: top;\n",
       "    }\n",
       "\n",
       "    .dataframe thead th {\n",
       "        text-align: right;\n",
       "    }\n",
       "</style>\n",
       "<table border=\"1\" class=\"dataframe\">\n",
       "  <thead>\n",
       "    <tr style=\"text-align: right;\">\n",
       "      <th></th>\n",
       "      <th>tags</th>\n",
       "      <th>pilates</th>\n",
       "      <th>name</th>\n",
       "      <th>location</th>\n",
       "      <th>avg_rating</th>\n",
       "      <th>num_ratings</th>\n",
       "    </tr>\n",
       "  </thead>\n",
       "  <tbody>\n",
       "    <tr>\n",
       "      <th>314</th>\n",
       "      <td>['pilates']</td>\n",
       "      <td>1</td>\n",
       "      <td>Elite Reformer Pilates</td>\n",
       "      <td>16-17 Cockfosters Parade, Barnet</td>\n",
       "      <td>5.0</td>\n",
       "      <td>13</td>\n",
       "    </tr>\n",
       "    <tr>\n",
       "      <th>309</th>\n",
       "      <td>['pilates', ' yoga', ' …']</td>\n",
       "      <td>1</td>\n",
       "      <td>Truform Studio</td>\n",
       "      <td>248 High Street, Beckenham</td>\n",
       "      <td>4.8</td>\n",
       "      <td>19</td>\n",
       "    </tr>\n",
       "    <tr>\n",
       "      <th>315</th>\n",
       "      <td>['yoga', ' dance', ' …']</td>\n",
       "      <td>0</td>\n",
       "      <td>Dance With Me @The Hamptons</td>\n",
       "      <td>Hamptons Estate, Worcester Park, London</td>\n",
       "      <td>4.8</td>\n",
       "      <td>21</td>\n",
       "    </tr>\n",
       "    <tr>\n",
       "      <th>319</th>\n",
       "      <td>['dance', ' pilates', ' …']</td>\n",
       "      <td>1</td>\n",
       "      <td>The Cherish Club</td>\n",
       "      <td>Bridgeman Street, Westminster, London</td>\n",
       "      <td>4.9</td>\n",
       "      <td>23</td>\n",
       "    </tr>\n",
       "    <tr>\n",
       "      <th>317</th>\n",
       "      <td>['gym time', ' strength training', ' …']</td>\n",
       "      <td>0</td>\n",
       "      <td>THE REP ROOM</td>\n",
       "      <td>UNIT 2 Stockbridge CI Hammond Street Cheshunt ...</td>\n",
       "      <td>4.9</td>\n",
       "      <td>27</td>\n",
       "    </tr>\n",
       "  </tbody>\n",
       "</table>\n",
       "</div>"
      ],
      "text/plain": [
       "                                         tags  pilates  \\\n",
       "314                               ['pilates']        1   \n",
       "309                ['pilates', ' yoga', ' …']        1   \n",
       "315                  ['yoga', ' dance', ' …']        0   \n",
       "319               ['dance', ' pilates', ' …']        1   \n",
       "317  ['gym time', ' strength training', ' …']        0   \n",
       "\n",
       "                            name  \\\n",
       "314       Elite Reformer Pilates   \n",
       "309               Truform Studio   \n",
       "315  Dance With Me @The Hamptons   \n",
       "319             The Cherish Club   \n",
       "317                 THE REP ROOM   \n",
       "\n",
       "                                              location  avg_rating  \\\n",
       "314                   16-17 Cockfosters Parade, Barnet         5.0   \n",
       "309                         248 High Street, Beckenham         4.8   \n",
       "315            Hamptons Estate, Worcester Park, London         4.8   \n",
       "319              Bridgeman Street, Westminster, London         4.9   \n",
       "317  UNIT 2 Stockbridge CI Hammond Street Cheshunt ...         4.9   \n",
       "\n",
       "     num_ratings  \n",
       "314           13  \n",
       "309           19  \n",
       "315           21  \n",
       "319           23  \n",
       "317           27  "
      ]
     },
     "execution_count": 12,
     "metadata": {},
     "output_type": "execute_result"
    }
   ],
   "source": [
    "df.sort_values(by=[\"num_ratings\", \"avg_rating\"], ascending=[True, False]).head()"
   ]
  },
  {
   "cell_type": "code",
   "execution_count": 13,
   "id": "ecaffd7e-1668-4f8a-a538-b87b3fba8275",
   "metadata": {},
   "outputs": [
    {
     "data": {
      "text/html": [
       "<div>\n",
       "<style scoped>\n",
       "    .dataframe tbody tr th:only-of-type {\n",
       "        vertical-align: middle;\n",
       "    }\n",
       "\n",
       "    .dataframe tbody tr th {\n",
       "        vertical-align: top;\n",
       "    }\n",
       "\n",
       "    .dataframe thead th {\n",
       "        text-align: right;\n",
       "    }\n",
       "</style>\n",
       "<table border=\"1\" class=\"dataframe\">\n",
       "  <thead>\n",
       "    <tr style=\"text-align: right;\">\n",
       "      <th></th>\n",
       "      <th>tags</th>\n",
       "      <th>pilates</th>\n",
       "      <th>name</th>\n",
       "      <th>location</th>\n",
       "      <th>avg_rating</th>\n",
       "      <th>num_ratings</th>\n",
       "    </tr>\n",
       "  </thead>\n",
       "  <tbody>\n",
       "    <tr>\n",
       "      <th>208</th>\n",
       "      <td>['strength training', ' pilates', ' …']</td>\n",
       "      <td>1</td>\n",
       "      <td>Body By Ciara</td>\n",
       "      <td>58a Hillfield Park Mews, London</td>\n",
       "      <td>5.0</td>\n",
       "      <td>100</td>\n",
       "    </tr>\n",
       "    <tr>\n",
       "      <th>273</th>\n",
       "      <td>['pilates']</td>\n",
       "      <td>1</td>\n",
       "      <td>LifeBody</td>\n",
       "      <td>78 Church Road, London</td>\n",
       "      <td>5.0</td>\n",
       "      <td>100</td>\n",
       "    </tr>\n",
       "    <tr>\n",
       "      <th>288</th>\n",
       "      <td>['strength training', ' barre', ' …']</td>\n",
       "      <td>0</td>\n",
       "      <td>Pilates and Tara</td>\n",
       "      <td>136 Hither Green Lane, London</td>\n",
       "      <td>5.0</td>\n",
       "      <td>100</td>\n",
       "    </tr>\n",
       "    <tr>\n",
       "      <th>298</th>\n",
       "      <td>['pilates']</td>\n",
       "      <td>1</td>\n",
       "      <td>Everybody Reformer</td>\n",
       "      <td>289 Lower Addiscombe Road, Croydon</td>\n",
       "      <td>5.0</td>\n",
       "      <td>44</td>\n",
       "    </tr>\n",
       "    <tr>\n",
       "      <th>210</th>\n",
       "      <td>['strength training', ' pilates', ' …']</td>\n",
       "      <td>1</td>\n",
       "      <td>Bourne Fitness</td>\n",
       "      <td>Grange Mills Weir Road, Unit 6, London</td>\n",
       "      <td>5.0</td>\n",
       "      <td>100</td>\n",
       "    </tr>\n",
       "  </tbody>\n",
       "</table>\n",
       "</div>"
      ],
      "text/plain": [
       "                                        tags  pilates                name  \\\n",
       "208  ['strength training', ' pilates', ' …']        1       Body By Ciara   \n",
       "273                              ['pilates']        1            LifeBody   \n",
       "288    ['strength training', ' barre', ' …']        0    Pilates and Tara   \n",
       "298                              ['pilates']        1  Everybody Reformer   \n",
       "210  ['strength training', ' pilates', ' …']        1      Bourne Fitness   \n",
       "\n",
       "                                   location  avg_rating  num_ratings  \n",
       "208         58a Hillfield Park Mews, London         5.0          100  \n",
       "273                  78 Church Road, London         5.0          100  \n",
       "288           136 Hither Green Lane, London         5.0          100  \n",
       "298      289 Lower Addiscombe Road, Croydon         5.0           44  \n",
       "210  Grange Mills Weir Road, Unit 6, London         5.0          100  "
      ]
     },
     "execution_count": 13,
     "metadata": {},
     "output_type": "execute_result"
    }
   ],
   "source": [
    "df.sort_values(by=\"avg_rating\", ascending=False).head()"
   ]
  },
  {
   "cell_type": "markdown",
   "id": "e5260d1f-dda7-470a-a65f-17625e3ea786",
   "metadata": {},
   "source": [
    "Although some studios have exceptionally high ratings, their reliability may be questionable if they are based on a small number of reviews (13-20). Such ratings might be inflated due to factors like politeness from first-time visitors or self-promotion by the staff to gain credibility, but a 5/5 rating coming from few people who may not have returned, doesn't compare to a 5/5 rating from 100+ consistent or returning reviewers, which is more accurate and trustwhorty."
   ]
  },
  {
   "cell_type": "code",
   "execution_count": 14,
   "id": "213cb0e9-bb68-4106-892f-567b3d61b5d2",
   "metadata": {},
   "outputs": [
    {
     "data": {
      "text/html": [
       "<div>\n",
       "<style scoped>\n",
       "    .dataframe tbody tr th:only-of-type {\n",
       "        vertical-align: middle;\n",
       "    }\n",
       "\n",
       "    .dataframe tbody tr th {\n",
       "        vertical-align: top;\n",
       "    }\n",
       "\n",
       "    .dataframe thead th {\n",
       "        text-align: right;\n",
       "    }\n",
       "</style>\n",
       "<table border=\"1\" class=\"dataframe\">\n",
       "  <thead>\n",
       "    <tr style=\"text-align: right;\">\n",
       "      <th></th>\n",
       "      <th>tags</th>\n",
       "      <th>name</th>\n",
       "      <th>location</th>\n",
       "    </tr>\n",
       "  </thead>\n",
       "  <tbody>\n",
       "    <tr>\n",
       "      <th>count</th>\n",
       "      <td>323</td>\n",
       "      <td>323</td>\n",
       "      <td>323</td>\n",
       "    </tr>\n",
       "    <tr>\n",
       "      <th>unique</th>\n",
       "      <td>58</td>\n",
       "      <td>230</td>\n",
       "      <td>322</td>\n",
       "    </tr>\n",
       "    <tr>\n",
       "      <th>top</th>\n",
       "      <td>['yoga', ' pilates', ' …']</td>\n",
       "      <td>MoreYoga</td>\n",
       "      <td>90 Upper Street, London</td>\n",
       "    </tr>\n",
       "    <tr>\n",
       "      <th>freq</th>\n",
       "      <td>53</td>\n",
       "      <td>25</td>\n",
       "      <td>2</td>\n",
       "    </tr>\n",
       "  </tbody>\n",
       "</table>\n",
       "</div>"
      ],
      "text/plain": [
       "                              tags      name                 location\n",
       "count                          323       323                      323\n",
       "unique                          58       230                      322\n",
       "top     ['yoga', ' pilates', ' …']  MoreYoga  90 Upper Street, London\n",
       "freq                            53        25                        2"
      ]
     },
     "execution_count": 14,
     "metadata": {},
     "output_type": "execute_result"
    }
   ],
   "source": [
    "df.describe(include=['object'])"
   ]
  },
  {
   "cell_type": "code",
   "execution_count": 15,
   "id": "7e471e23-52f2-4ad6-95d8-b166969ff3a6",
   "metadata": {},
   "outputs": [
    {
     "data": {
      "text/plain": [
       "tags\n",
       "['yoga', ' pilates', ' …']                             53\n",
       "['pilates']                                            49\n",
       "['gym time', ' strength training', ' …']               32\n",
       "['yoga', ' pilates']                                   20\n",
       "['strength training', ' pilates', ' …']                13\n",
       "['pilates', ' strength training', ' …']                11\n",
       "['pilates', ' strength training']                      10\n",
       "['pilates', ' yoga', ' …']                              9\n",
       "['strength training', ' cycling', ' …']                 9\n",
       "['strength training', ' yoga', ' …']                    8\n",
       "['barre', ' pilates']                                   7\n",
       "['yoga', ' strength training', ' …']                    7\n",
       "['yoga', ' barre', ' …']                                6\n",
       "['barre', ' pilates', ' …']                             6\n",
       "['pilates', ' barre', ' …']                             6\n",
       "['pilates', ' prenatal', ' …']                          5\n",
       "['pilates', ' yoga']                                    5\n",
       "['strength training', ' boxing', ' …']                  5\n",
       "['strength training', ' dance', ' …']                   4\n",
       "['yoga', ' meditation', ' …']                           3\n",
       "['pilates', ' prenatal']                                3\n",
       "['swimming', ' gym time', ' …']                         3\n",
       "['pilates', ' barre']                                   3\n",
       "['dance', ' aerial', ' …']                              2\n",
       "['gym time', ' swimming', ' …']                         2\n",
       "['strength training', ' barre', ' …']                   2\n",
       "['pilates', ' stretching', ' …']                        2\n",
       "['pilates', ' personal training']                       2\n",
       "['cycling', ' strength training', ' …']                 2\n",
       "['pilates', ' stretching']                              2\n",
       "['outdoors', ' strength training', ' …']                2\n",
       "['cycling', ' yoga', ' …']                              2\n",
       "['yoga', ' dance', ' …']                                2\n",
       "['dance', ' pilates', ' …']                             2\n",
       "['swimming', ' pilates', ' …']                          1\n",
       "['pilates', ' boxing']                                  1\n",
       "['strength training', ' personal training', ' …']       1\n",
       "['strength training', ' gym time', ' …']                1\n",
       "['gym time', ' yoga', ' …']                             1\n",
       "['meditation', ' yoga', ' …']                           1\n",
       "['strength training', ' stretching', ' …']              1\n",
       "['gym time', ' pilates', ' …']                          1\n",
       "['pilates', ' low-impact training']                     1\n",
       "['low-impact training', ' strength training', ' …']     1\n",
       "['stretching', ' yoga', ' …']                           1\n",
       "['yoga', ' stretching', ' …']                           1\n",
       "['pilates', ' sports recovery', ' …']                   1\n",
       "['dance', ' barre', ' …']                               1\n",
       "['yoga', ' low-impact training', ' …']                  1\n",
       "['pilates', ' aerial']                                  1\n",
       "['yoga', ' prenatal', ' …']                             1\n",
       "['pilates', ' running', ' …']                           1\n",
       "['barre', ' low-impact training', ' …']                 1\n",
       "['strength training', ' rowing', ' …']                  1\n",
       "['cycling', ' pilates', ' …']                           1\n",
       "['pilates', ' cycling']                                 1\n",
       "['strength training', ' pilates']                       1\n",
       "['strength training', ' low-impact training', ' …']     1\n",
       "Name: count, dtype: int64"
      ]
     },
     "execution_count": 15,
     "metadata": {},
     "output_type": "execute_result"
    }
   ],
   "source": [
    "df['tags'].value_counts()"
   ]
  },
  {
   "cell_type": "markdown",
   "id": "846c82f5-d8aa-43b2-be22-afca816269ab",
   "metadata": {},
   "source": [
    "#### Saving cleaned DataFrame"
   ]
  },
  {
   "cell_type": "code",
   "execution_count": 16,
   "id": "2abb39c9-f61b-4474-aa74-59b07d50071e",
   "metadata": {},
   "outputs": [],
   "source": [
    "cleaned_file_path = 'data/class_pass_cleaned.csv'\n",
    "df.to_csv(cleaned_file_path, index=False)"
   ]
  },
  {
   "cell_type": "markdown",
   "id": "a26b7978-dedf-4627-9128-e0008dac4211",
   "metadata": {},
   "source": [
    "### Step 4: EDA"
   ]
  },
  {
   "cell_type": "code",
   "execution_count": 17,
   "id": "eb10bd95-c359-4c11-86a2-29496ae2da20",
   "metadata": {},
   "outputs": [
    {
     "name": "stdout",
     "output_type": "stream",
     "text": [
      "<class 'pandas.core.frame.DataFrame'>\n",
      "RangeIndex: 323 entries, 0 to 322\n",
      "Data columns (total 6 columns):\n",
      " #   Column       Non-Null Count  Dtype  \n",
      "---  ------       --------------  -----  \n",
      " 0   tags         323 non-null    object \n",
      " 1   pilates      323 non-null    int64  \n",
      " 2   name         323 non-null    object \n",
      " 3   location     323 non-null    object \n",
      " 4   avg_rating   323 non-null    float64\n",
      " 5   num_ratings  323 non-null    int64  \n",
      "dtypes: float64(1), int64(2), object(3)\n",
      "memory usage: 15.3+ KB\n"
     ]
    }
   ],
   "source": [
    "df.info()"
   ]
  },
  {
   "cell_type": "code",
   "execution_count": 18,
   "id": "9c67baa5-9cab-4779-a218-a8713677d487",
   "metadata": {},
   "outputs": [
    {
     "data": {
      "text/plain": [
       "pilates\n",
       "1    218\n",
       "0    105\n",
       "Name: count, dtype: int64"
      ]
     },
     "execution_count": 18,
     "metadata": {},
     "output_type": "execute_result"
    }
   ],
   "source": [
    "df['pilates'].value_counts()"
   ]
  },
  {
   "cell_type": "markdown",
   "id": "a3b649af-edf5-47b5-b2c5-56afdfd5904f",
   "metadata": {},
   "source": [
    "218 studios out of 323 offer pilates classes."
   ]
  },
  {
   "cell_type": "code",
   "execution_count": 19,
   "id": "f0b749f0-68de-4258-b76c-96973ef5bd4c",
   "metadata": {},
   "outputs": [
    {
     "data": {
      "text/plain": [
       "pilates\n",
       "1    0.67\n",
       "0    0.33\n",
       "Name: proportion, dtype: float64"
      ]
     },
     "execution_count": 19,
     "metadata": {},
     "output_type": "execute_result"
    }
   ],
   "source": [
    "df['pilates'].value_counts(normalize=True)"
   ]
  },
  {
   "cell_type": "code",
   "execution_count": 20,
   "id": "5cd96aae-1f0e-4209-8ae1-e772f21a0ac6",
   "metadata": {},
   "outputs": [
    {
     "data": {
      "text/plain": [
       "name\n",
       "MoreYoga                                  25\n",
       "Fitness First                             13\n",
       "Barrecore                                  9\n",
       "1Rebel                                     8\n",
       "Gymbox                                     8\n",
       "                                          ..\n",
       "The Factory Fitness & Dance Centre LTD     1\n",
       "Training Points Fitness and Therapy        1\n",
       "Hot Yoga Essex                             1\n",
       "Snap Fitness                               1\n",
       "Frame                                      1\n",
       "Name: count, Length: 230, dtype: int64"
      ]
     },
     "execution_count": 20,
     "metadata": {},
     "output_type": "execute_result"
    }
   ],
   "source": [
    "df['name'].value_counts()"
   ]
  },
  {
   "cell_type": "code",
   "execution_count": 21,
   "id": "a1691248-82df-4cb6-ade7-3ae0d7301bd4",
   "metadata": {},
   "outputs": [
    {
     "data": {
      "text/plain": [
       "location\n",
       "90 Upper Street, London                       2\n",
       "Hearn St, London                              1\n",
       "Westfield Shopping Centre, London             1\n",
       "107 Station Road, West Wickham                1\n",
       "96A Clifton Hill, London                      1\n",
       "                                             ..\n",
       "2 Clove Crescent, London                      1\n",
       "55 Baker St, London                           1\n",
       "Lyham Road, London                            1\n",
       "Wimbledon Village, 1 Thornton Road, London    1\n",
       "29 New Inn Yard, London                       1\n",
       "Name: count, Length: 322, dtype: int64"
      ]
     },
     "execution_count": 21,
     "metadata": {},
     "output_type": "execute_result"
    }
   ],
   "source": [
    "df['location'].value_counts()"
   ]
  },
  {
   "cell_type": "markdown",
   "id": "ee41b0b3-f785-4383-8566-9e299ed93817",
   "metadata": {},
   "source": [
    "Indexing and Retrieving data\n",
    "\n",
    "#### What is the proportion of available pilates classses today?"
   ]
  },
  {
   "cell_type": "code",
   "execution_count": 22,
   "id": "7e3b74b0-c9b4-44fd-8a4b-4180f4194007",
   "metadata": {},
   "outputs": [
    {
     "data": {
      "text/plain": [
       "0.6749226006191951"
      ]
     },
     "execution_count": 22,
     "metadata": {},
     "output_type": "execute_result"
    }
   ],
   "source": [
    "df[\"pilates\"].mean()"
   ]
  },
  {
   "cell_type": "markdown",
   "id": "b539cdd7-821d-4c2c-b88b-da5dcdf549b2",
   "metadata": {},
   "source": [
    "Boolean indexing -> DataFrame consisting only rows that satisfy a condition on  certain value\n",
    "\n",
    "#### What is the average rating of studios that offer pilates classes?"
   ]
  },
  {
   "cell_type": "code",
   "execution_count": 23,
   "id": "9c9bd897-f2ea-4561-ab78-f60e4a5d3e3a",
   "metadata": {},
   "outputs": [
    {
     "data": {
      "text/plain": [
       "4.812385321100917"
      ]
     },
     "execution_count": 23,
     "metadata": {},
     "output_type": "execute_result"
    }
   ],
   "source": [
    "df[df[\"pilates\"] == 1][\"avg_rating\"].mean()"
   ]
  },
  {
   "cell_type": "code",
   "execution_count": 24,
   "id": "0cac087b-b066-4f34-86be-8ae5cf12ae71",
   "metadata": {},
   "outputs": [
    {
     "data": {
      "image/png": "[encoded data removed]",
      "text/plain": [
       "<Figure size 800x500 with 1 Axes>"
      ]
     },
     "metadata": {},
     "output_type": "display_data"
    }
   ],
   "source": [
    "plt.figure(figsize=(8, 5))\n",
    "sns.histplot(df['avg_rating'], kde=True, bins=15, color=\"blue\", alpha=0.7)\n",
    "plt.title(\"Distribution of Average Ratings\")\n",
    "plt.xlabel(\"Average Rating\")\n",
    "plt.ylabel(\"Frequency\")\n",
    "plt.show()"
   ]
  },
  {
   "cell_type": "markdown",
   "id": "859cc644-08c6-4a33-be43-8257fb98c7ec",
   "metadata": {},
   "source": [
    "#### What is the distribution of average ratings for pilates vs. non-pilates studios?"
   ]
  },
  {
   "cell_type": "code",
   "execution_count": 25,
   "id": "7d807854-ea5a-4b9f-91aa-1b05592981fe",
   "metadata": {},
   "outputs": [
    {
     "data": {
      "image/png": "[encoded data removed]",
      "text/plain": [
       "<Figure size 640x480 with 1 Axes>"
      ]
     },
     "metadata": {},
     "output_type": "display_data"
    }
   ],
   "source": [
    "import matplotlib.pyplot as plt\n",
    "df[df[\"pilates\"] == 1][\"avg_rating\"].hist(alpha=0.5, label=\"Pilates\")\n",
    "df[df[\"pilates\"] == 0][\"avg_rating\"].hist(alpha=0.5, label=\"Non-Pilates\")\n",
    "plt.legend()\n",
    "plt.show()"
   ]
  },
  {
   "cell_type": "markdown",
   "id": "16ea20e9-1f05-42cf-9b18-97c5b39c61db",
   "metadata": {},
   "source": [
    "#### What proportion of pilates studios have a rating above a 4.5 threshold?"
   ]
  },
  {
   "cell_type": "code",
   "execution_count": 26,
   "id": "6f9070de-f369-4b27-9d31-8d5a9e3eb625",
   "metadata": {},
   "outputs": [
    {
     "data": {
      "text/plain": [
       "0.9954128440366973"
      ]
     },
     "execution_count": 26,
     "metadata": {},
     "output_type": "execute_result"
    }
   ],
   "source": [
    "threshold = 4.5\n",
    "df[(df[\"pilates\"] == 1) & (df[\"avg_rating\"] > threshold)].shape[0] / df[df[\"pilates\"] == 1].shape[0]"
   ]
  },
  {
   "cell_type": "markdown",
   "id": "44a84842-03dd-4e48-9955-448657537f1b",
   "metadata": {},
   "source": [
    "#### What is the highest-rated studio offering pilates classes?"
   ]
  },
  {
   "cell_type": "code",
   "execution_count": 27,
   "id": "3df37e79-40bd-42a3-8e58-adf250ad60c6",
   "metadata": {},
   "outputs": [
    {
     "data": {
      "text/plain": [
       "5.0"
      ]
     },
     "execution_count": 27,
     "metadata": {},
     "output_type": "execute_result"
    }
   ],
   "source": [
    "df[df[\"pilates\"] == 1][\"avg_rating\"].max()"
   ]
  },
  {
   "cell_type": "code",
   "execution_count": 28,
   "id": "0f6f295a-1b3f-4d61-8f1d-61945c0c299a",
   "metadata": {},
   "outputs": [
    {
     "data": {
      "text/html": [
       "<div>\n",
       "<style scoped>\n",
       "    .dataframe tbody tr th:only-of-type {\n",
       "        vertical-align: middle;\n",
       "    }\n",
       "\n",
       "    .dataframe tbody tr th {\n",
       "        vertical-align: top;\n",
       "    }\n",
       "\n",
       "    .dataframe thead th {\n",
       "        text-align: right;\n",
       "    }\n",
       "</style>\n",
       "<table border=\"1\" class=\"dataframe\">\n",
       "  <thead>\n",
       "    <tr style=\"text-align: right;\">\n",
       "      <th></th>\n",
       "      <th>tags</th>\n",
       "      <th>pilates</th>\n",
       "      <th>name</th>\n",
       "      <th>location</th>\n",
       "      <th>avg_rating</th>\n",
       "      <th>num_ratings</th>\n",
       "    </tr>\n",
       "  </thead>\n",
       "  <tbody>\n",
       "    <tr>\n",
       "      <th>153</th>\n",
       "      <td>['pilates', ' strength training']</td>\n",
       "      <td>1</td>\n",
       "      <td>Trent Park Pilates</td>\n",
       "      <td>Bramley Rd,Trent Park Equestrian Centre, London</td>\n",
       "      <td>5.0</td>\n",
       "      <td>1000</td>\n",
       "    </tr>\n",
       "    <tr>\n",
       "      <th>208</th>\n",
       "      <td>['strength training', ' pilates', ' …']</td>\n",
       "      <td>1</td>\n",
       "      <td>Body By Ciara</td>\n",
       "      <td>58a Hillfield Park Mews, London</td>\n",
       "      <td>5.0</td>\n",
       "      <td>100</td>\n",
       "    </tr>\n",
       "    <tr>\n",
       "      <th>210</th>\n",
       "      <td>['strength training', ' pilates', ' …']</td>\n",
       "      <td>1</td>\n",
       "      <td>Bourne Fitness</td>\n",
       "      <td>Grange Mills Weir Road, Unit 6, London</td>\n",
       "      <td>5.0</td>\n",
       "      <td>100</td>\n",
       "    </tr>\n",
       "    <tr>\n",
       "      <th>221</th>\n",
       "      <td>['pilates', ' boxing']</td>\n",
       "      <td>1</td>\n",
       "      <td>Posture London</td>\n",
       "      <td>107 Station Road, West Wickham</td>\n",
       "      <td>5.0</td>\n",
       "      <td>100</td>\n",
       "    </tr>\n",
       "    <tr>\n",
       "      <th>226</th>\n",
       "      <td>['strength training', ' boxing', ' …']</td>\n",
       "      <td>0</td>\n",
       "      <td>Lifelab</td>\n",
       "      <td>Foxbury Avenue, Chislehurst BR7 6SD, UK, Chisl...</td>\n",
       "      <td>5.0</td>\n",
       "      <td>100</td>\n",
       "    </tr>\n",
       "    <tr>\n",
       "      <th>228</th>\n",
       "      <td>['strength training', ' boxing', ' …']</td>\n",
       "      <td>0</td>\n",
       "      <td>FitBirds</td>\n",
       "      <td>7 Ledrington Rd, London</td>\n",
       "      <td>5.0</td>\n",
       "      <td>500</td>\n",
       "    </tr>\n",
       "    <tr>\n",
       "      <th>245</th>\n",
       "      <td>['strength training', ' personal training', ' …']</td>\n",
       "      <td>0</td>\n",
       "      <td>Built London</td>\n",
       "      <td>Unit 113, Anerley Works, 183a Anerley Rd, London</td>\n",
       "      <td>5.0</td>\n",
       "      <td>500</td>\n",
       "    </tr>\n",
       "    <tr>\n",
       "      <th>250</th>\n",
       "      <td>['strength training', ' pilates', ' …']</td>\n",
       "      <td>1</td>\n",
       "      <td>F.I.T.T STUDIO</td>\n",
       "      <td>26 Aylmer Parade, London</td>\n",
       "      <td>5.0</td>\n",
       "      <td>100</td>\n",
       "    </tr>\n",
       "    <tr>\n",
       "      <th>261</th>\n",
       "      <td>['pilates']</td>\n",
       "      <td>1</td>\n",
       "      <td>Better Flow</td>\n",
       "      <td>Hackney Road, London</td>\n",
       "      <td>5.0</td>\n",
       "      <td>500</td>\n",
       "    </tr>\n",
       "    <tr>\n",
       "      <th>268</th>\n",
       "      <td>['pilates']</td>\n",
       "      <td>1</td>\n",
       "      <td>Vivo Pilates</td>\n",
       "      <td>Unit 208 Harbour Yard, Chelsea Harbour, London</td>\n",
       "      <td>5.0</td>\n",
       "      <td>100</td>\n",
       "    </tr>\n",
       "    <tr>\n",
       "      <th>269</th>\n",
       "      <td>['strength training', ' pilates', ' …']</td>\n",
       "      <td>1</td>\n",
       "      <td>FitBirds</td>\n",
       "      <td>Quakers Meeting House 34 Sunderland Road, London</td>\n",
       "      <td>5.0</td>\n",
       "      <td>100</td>\n",
       "    </tr>\n",
       "    <tr>\n",
       "      <th>271</th>\n",
       "      <td>['pilates']</td>\n",
       "      <td>1</td>\n",
       "      <td>Zoe Hodgson Pilates</td>\n",
       "      <td>87 Douglas Road, Surbiton</td>\n",
       "      <td>5.0</td>\n",
       "      <td>100</td>\n",
       "    </tr>\n",
       "    <tr>\n",
       "      <th>273</th>\n",
       "      <td>['pilates']</td>\n",
       "      <td>1</td>\n",
       "      <td>LifeBody</td>\n",
       "      <td>78 Church Road, London</td>\n",
       "      <td>5.0</td>\n",
       "      <td>100</td>\n",
       "    </tr>\n",
       "    <tr>\n",
       "      <th>288</th>\n",
       "      <td>['strength training', ' barre', ' …']</td>\n",
       "      <td>0</td>\n",
       "      <td>Pilates and Tara</td>\n",
       "      <td>136 Hither Green Lane, London</td>\n",
       "      <td>5.0</td>\n",
       "      <td>100</td>\n",
       "    </tr>\n",
       "    <tr>\n",
       "      <th>298</th>\n",
       "      <td>['pilates']</td>\n",
       "      <td>1</td>\n",
       "      <td>Everybody Reformer</td>\n",
       "      <td>289 Lower Addiscombe Road, Croydon</td>\n",
       "      <td>5.0</td>\n",
       "      <td>44</td>\n",
       "    </tr>\n",
       "    <tr>\n",
       "      <th>307</th>\n",
       "      <td>['strength training', ' boxing', ' …']</td>\n",
       "      <td>0</td>\n",
       "      <td>Mwah Fitness</td>\n",
       "      <td>Kent Cricket club, Worsley Bridge Rd, Beckenham</td>\n",
       "      <td>5.0</td>\n",
       "      <td>59</td>\n",
       "    </tr>\n",
       "    <tr>\n",
       "      <th>314</th>\n",
       "      <td>['pilates']</td>\n",
       "      <td>1</td>\n",
       "      <td>Elite Reformer Pilates</td>\n",
       "      <td>16-17 Cockfosters Parade, Barnet</td>\n",
       "      <td>5.0</td>\n",
       "      <td>13</td>\n",
       "    </tr>\n",
       "  </tbody>\n",
       "</table>\n",
       "</div>"
      ],
      "text/plain": [
       "                                                  tags  pilates  \\\n",
       "153                  ['pilates', ' strength training']        1   \n",
       "208            ['strength training', ' pilates', ' …']        1   \n",
       "210            ['strength training', ' pilates', ' …']        1   \n",
       "221                             ['pilates', ' boxing']        1   \n",
       "226             ['strength training', ' boxing', ' …']        0   \n",
       "228             ['strength training', ' boxing', ' …']        0   \n",
       "245  ['strength training', ' personal training', ' …']        0   \n",
       "250            ['strength training', ' pilates', ' …']        1   \n",
       "261                                        ['pilates']        1   \n",
       "268                                        ['pilates']        1   \n",
       "269            ['strength training', ' pilates', ' …']        1   \n",
       "271                                        ['pilates']        1   \n",
       "273                                        ['pilates']        1   \n",
       "288              ['strength training', ' barre', ' …']        0   \n",
       "298                                        ['pilates']        1   \n",
       "307             ['strength training', ' boxing', ' …']        0   \n",
       "314                                        ['pilates']        1   \n",
       "\n",
       "                       name  \\\n",
       "153      Trent Park Pilates   \n",
       "208           Body By Ciara   \n",
       "210          Bourne Fitness   \n",
       "221          Posture London   \n",
       "226                 Lifelab   \n",
       "228                FitBirds   \n",
       "245            Built London   \n",
       "250          F.I.T.T STUDIO   \n",
       "261             Better Flow   \n",
       "268            Vivo Pilates   \n",
       "269                FitBirds   \n",
       "271     Zoe Hodgson Pilates   \n",
       "273                LifeBody   \n",
       "288        Pilates and Tara   \n",
       "298      Everybody Reformer   \n",
       "307            Mwah Fitness   \n",
       "314  Elite Reformer Pilates   \n",
       "\n",
       "                                              location  avg_rating  \\\n",
       "153    Bramley Rd,Trent Park Equestrian Centre, London         5.0   \n",
       "208                    58a Hillfield Park Mews, London         5.0   \n",
       "210             Grange Mills Weir Road, Unit 6, London         5.0   \n",
       "221                     107 Station Road, West Wickham         5.0   \n",
       "226  Foxbury Avenue, Chislehurst BR7 6SD, UK, Chisl...         5.0   \n",
       "228                            7 Ledrington Rd, London         5.0   \n",
       "245   Unit 113, Anerley Works, 183a Anerley Rd, London         5.0   \n",
       "250                           26 Aylmer Parade, London         5.0   \n",
       "261                               Hackney Road, London         5.0   \n",
       "268     Unit 208 Harbour Yard, Chelsea Harbour, London         5.0   \n",
       "269   Quakers Meeting House 34 Sunderland Road, London         5.0   \n",
       "271                          87 Douglas Road, Surbiton         5.0   \n",
       "273                             78 Church Road, London         5.0   \n",
       "288                      136 Hither Green Lane, London         5.0   \n",
       "298                 289 Lower Addiscombe Road, Croydon         5.0   \n",
       "307    Kent Cricket club, Worsley Bridge Rd, Beckenham         5.0   \n",
       "314                   16-17 Cockfosters Parade, Barnet         5.0   \n",
       "\n",
       "     num_ratings  \n",
       "153         1000  \n",
       "208          100  \n",
       "210          100  \n",
       "221          100  \n",
       "226          100  \n",
       "228          500  \n",
       "245          500  \n",
       "250          100  \n",
       "261          500  \n",
       "268          100  \n",
       "269          100  \n",
       "271          100  \n",
       "273          100  \n",
       "288          100  \n",
       "298           44  \n",
       "307           59  \n",
       "314           13  "
      ]
     },
     "execution_count": 28,
     "metadata": {},
     "output_type": "execute_result"
    }
   ],
   "source": [
    "df[df[\"avg_rating\"] == df[df[\"pilates\"] == 1][\"avg_rating\"].max()] "
   ]
  },
  {
   "cell_type": "markdown",
   "id": "cd04a195-8417-4974-973f-6074129c3938",
   "metadata": {},
   "source": [
    "#### Observations"
   ]
  },
  {
   "cell_type": "markdown",
   "id": "48b0e714-f567-48cb-94ef-86a65afa1453",
   "metadata": {},
   "source": [
    "Seems that Trent Park Pilates is the most loved studio for Pilestes classes with 5/5 rating coming from a large number of reviews. However, my analysis is too limited and niched on pilates while these studios seem to offer a large variety of other type of classes I could look at. Therefore, I will parse the tags column and create new binary columns for activity types in order to compare them with my favorite sport activity (pilates) and see how I could combine different classes at the top-rated studio."
   ]
  },
  {
   "cell_type": "code",
   "execution_count": 29,
   "id": "5472a989-8d4a-4f7b-84a6-3681661f885d",
   "metadata": {},
   "outputs": [
    {
     "data": {
      "text/html": [
       "<div>\n",
       "<style scoped>\n",
       "    .dataframe tbody tr th:only-of-type {\n",
       "        vertical-align: middle;\n",
       "    }\n",
       "\n",
       "    .dataframe tbody tr th {\n",
       "        vertical-align: top;\n",
       "    }\n",
       "\n",
       "    .dataframe thead th {\n",
       "        text-align: right;\n",
       "    }\n",
       "</style>\n",
       "<table border=\"1\" class=\"dataframe\">\n",
       "  <thead>\n",
       "    <tr style=\"text-align: right;\">\n",
       "      <th></th>\n",
       "      <th>tags</th>\n",
       "      <th>pilates</th>\n",
       "      <th>name</th>\n",
       "      <th>location</th>\n",
       "      <th>avg_rating</th>\n",
       "      <th>num_ratings</th>\n",
       "      <th>meditation</th>\n",
       "      <th>cycling</th>\n",
       "      <th>outdoors</th>\n",
       "      <th>personal training</th>\n",
       "      <th>...</th>\n",
       "      <th>low-impact training</th>\n",
       "      <th>strength training</th>\n",
       "      <th>prenatal</th>\n",
       "      <th>running</th>\n",
       "      <th>gym time</th>\n",
       "      <th>swimming</th>\n",
       "      <th>barre</th>\n",
       "      <th>aerial</th>\n",
       "      <th>stretching</th>\n",
       "      <th>yoga</th>\n",
       "    </tr>\n",
       "  </thead>\n",
       "  <tbody>\n",
       "    <tr>\n",
       "      <th>0</th>\n",
       "      <td>[pilates, strength training]</td>\n",
       "      <td>1</td>\n",
       "      <td>BLOK</td>\n",
       "      <td>Hearn St, London</td>\n",
       "      <td>4.8</td>\n",
       "      <td>30000</td>\n",
       "      <td>False</td>\n",
       "      <td>False</td>\n",
       "      <td>False</td>\n",
       "      <td>False</td>\n",
       "      <td>...</td>\n",
       "      <td>False</td>\n",
       "      <td>True</td>\n",
       "      <td>False</td>\n",
       "      <td>False</td>\n",
       "      <td>False</td>\n",
       "      <td>False</td>\n",
       "      <td>False</td>\n",
       "      <td>False</td>\n",
       "      <td>False</td>\n",
       "      <td>False</td>\n",
       "    </tr>\n",
       "    <tr>\n",
       "      <th>1</th>\n",
       "      <td>[yoga, strength training]</td>\n",
       "      <td>0</td>\n",
       "      <td>Mission E1</td>\n",
       "      <td>7-9 Fashion Street, London</td>\n",
       "      <td>4.9</td>\n",
       "      <td>20000</td>\n",
       "      <td>False</td>\n",
       "      <td>False</td>\n",
       "      <td>False</td>\n",
       "      <td>False</td>\n",
       "      <td>...</td>\n",
       "      <td>False</td>\n",
       "      <td>True</td>\n",
       "      <td>False</td>\n",
       "      <td>False</td>\n",
       "      <td>False</td>\n",
       "      <td>False</td>\n",
       "      <td>False</td>\n",
       "      <td>False</td>\n",
       "      <td>False</td>\n",
       "      <td>True</td>\n",
       "    </tr>\n",
       "    <tr>\n",
       "      <th>2</th>\n",
       "      <td>[strength training, pilates]</td>\n",
       "      <td>1</td>\n",
       "      <td>BLOK</td>\n",
       "      <td>The Tram Depot, 38-40 Upper Clapton Rd, London</td>\n",
       "      <td>4.8</td>\n",
       "      <td>30000</td>\n",
       "      <td>False</td>\n",
       "      <td>False</td>\n",
       "      <td>False</td>\n",
       "      <td>False</td>\n",
       "      <td>...</td>\n",
       "      <td>False</td>\n",
       "      <td>True</td>\n",
       "      <td>False</td>\n",
       "      <td>False</td>\n",
       "      <td>False</td>\n",
       "      <td>False</td>\n",
       "      <td>False</td>\n",
       "      <td>False</td>\n",
       "      <td>False</td>\n",
       "      <td>False</td>\n",
       "    </tr>\n",
       "    <tr>\n",
       "      <th>3</th>\n",
       "      <td>[cycling, yoga]</td>\n",
       "      <td>0</td>\n",
       "      <td>3Tribes - Crouch End</td>\n",
       "      <td>71 Crouch End Hill, London</td>\n",
       "      <td>4.9</td>\n",
       "      <td>30000</td>\n",
       "      <td>False</td>\n",
       "      <td>True</td>\n",
       "      <td>False</td>\n",
       "      <td>False</td>\n",
       "      <td>...</td>\n",
       "      <td>False</td>\n",
       "      <td>False</td>\n",
       "      <td>False</td>\n",
       "      <td>False</td>\n",
       "      <td>False</td>\n",
       "      <td>False</td>\n",
       "      <td>False</td>\n",
       "      <td>False</td>\n",
       "      <td>False</td>\n",
       "      <td>True</td>\n",
       "    </tr>\n",
       "    <tr>\n",
       "      <th>4</th>\n",
       "      <td>[strength training, boxing]</td>\n",
       "      <td>0</td>\n",
       "      <td>1Rebel</td>\n",
       "      <td>9 Holles Street, London</td>\n",
       "      <td>4.8</td>\n",
       "      <td>30000</td>\n",
       "      <td>False</td>\n",
       "      <td>False</td>\n",
       "      <td>False</td>\n",
       "      <td>False</td>\n",
       "      <td>...</td>\n",
       "      <td>False</td>\n",
       "      <td>True</td>\n",
       "      <td>False</td>\n",
       "      <td>False</td>\n",
       "      <td>False</td>\n",
       "      <td>False</td>\n",
       "      <td>False</td>\n",
       "      <td>False</td>\n",
       "      <td>False</td>\n",
       "      <td>False</td>\n",
       "    </tr>\n",
       "  </tbody>\n",
       "</table>\n",
       "<p>5 rows × 24 columns</p>\n",
       "</div>"
      ],
      "text/plain": [
       "                           tags  pilates                  name  \\\n",
       "0  [pilates, strength training]        1                  BLOK   \n",
       "1     [yoga, strength training]        0            Mission E1   \n",
       "2  [strength training, pilates]        1                  BLOK   \n",
       "3               [cycling, yoga]        0  3Tribes - Crouch End   \n",
       "4   [strength training, boxing]        0                1Rebel   \n",
       "\n",
       "                                         location  avg_rating  num_ratings  \\\n",
       "0                                Hearn St, London         4.8        30000   \n",
       "1                      7-9 Fashion Street, London         4.9        20000   \n",
       "2  The Tram Depot, 38-40 Upper Clapton Rd, London         4.8        30000   \n",
       "3                      71 Crouch End Hill, London         4.9        30000   \n",
       "4                         9 Holles Street, London         4.8        30000   \n",
       "\n",
       "   meditation  cycling  outdoors  personal training  ...  low-impact training  \\\n",
       "0       False    False     False              False  ...                False   \n",
       "1       False    False     False              False  ...                False   \n",
       "2       False    False     False              False  ...                False   \n",
       "3       False     True     False              False  ...                False   \n",
       "4       False    False     False              False  ...                False   \n",
       "\n",
       "   strength training  prenatal  running  gym time  swimming  barre  aerial  \\\n",
       "0               True     False    False     False     False  False   False   \n",
       "1               True     False    False     False     False  False   False   \n",
       "2               True     False    False     False     False  False   False   \n",
       "3              False     False    False     False     False  False   False   \n",
       "4               True     False    False     False     False  False   False   \n",
       "\n",
       "   stretching   yoga  \n",
       "0       False  False  \n",
       "1       False   True  \n",
       "2       False  False  \n",
       "3       False   True  \n",
       "4       False  False  \n",
       "\n",
       "[5 rows x 24 columns]"
      ]
     },
     "execution_count": 29,
     "metadata": {},
     "output_type": "execute_result"
    }
   ],
   "source": [
    "# Extract all unique tags from the 'tags' column\n",
    "import ast\n",
    "#  df['tags'] = df['tags'].str.strip(\"[]\").str.replace(\"'\", \"\").str.split(\", \")\n",
    "df['tags'] = df['tags'].apply(ast.literal_eval).apply(lambda x: [v.strip() for v in x if v != ' …'])\n",
    "\n",
    "# Extract unique tags and create a set\n",
    "all_tags = set(tag for tags_list in df['tags'] for tag in tags_list)\n",
    "\n",
    "# Create a new column for each tag with True/False values, skipping 'pilates'\n",
    "for tag in all_tags:\n",
    "    if tag == 'pilates':\n",
    "        continue  # Skip the 'pilates' tag\n",
    "    else:\n",
    "        # Ensure the 'pilates' column is not affected\n",
    "        if tag not in df.columns:\n",
    "            # Apply the logic only for rows with non-empty 'tags' lists\n",
    "            df[tag.strip()] = df['tags'].apply(lambda tags: tag in tags if isinstance(tags, list) else False)\n",
    "\n",
    "\n",
    "df.head()"
   ]
  },
  {
   "cell_type": "markdown",
   "id": "863801c6-8fcc-4231-a2ff-8af2e59c7d26",
   "metadata": {},
   "source": [
    "### Strategy for handling preserving the Pilates columns while extracting other activity types"
   ]
  },
  {
   "cell_type": "markdown",
   "id": "27b34f13-f7cd-4d60-a268-58586007ca19",
   "metadata": {},
   "source": [
    "The ast.literal_eval function evaluates a string containing a Python literal (list, dictionary, tuple) into its corresponding Python object.\n",
    "\n",
    "Since df['tags'] was containing entries like \"[ 'yoga', ' strength training', ' …']\", ast.literal_eval converted these strings into actual Python lists, like ['yoga', 'strength training', '…'], instead of strings.\n",
    "\n",
    "The lambda applies a second transformation to each list (x) in df['tags'] by removing any whitespace from the strings and avoid extracting the ' …' element"
   ]
  },
  {
   "cell_type": "code",
   "execution_count": 30,
   "id": "d2a8174a-ec55-4e2e-9ab1-79816e36a040",
   "metadata": {},
   "outputs": [
    {
     "data": {
      "text/plain": [
       "{'aerial',\n",
       " 'barre',\n",
       " 'boxing',\n",
       " 'cycling',\n",
       " 'dance',\n",
       " 'gym time',\n",
       " 'low-impact training',\n",
       " 'meditation',\n",
       " 'outdoors',\n",
       " 'personal training',\n",
       " 'pilates',\n",
       " 'prenatal',\n",
       " 'rowing',\n",
       " 'running',\n",
       " 'sports recovery',\n",
       " 'strength training',\n",
       " 'stretching',\n",
       " 'swimming',\n",
       " 'yoga'}"
      ]
     },
     "execution_count": 30,
     "metadata": {},
     "output_type": "execute_result"
    }
   ],
   "source": [
    "all_tags"
   ]
  },
  {
   "cell_type": "code",
   "execution_count": 31,
   "id": "2e3c1c3c-5a27-4b98-93d9-7fb5cf80aeb2",
   "metadata": {},
   "outputs": [
    {
     "name": "stdout",
     "output_type": "stream",
     "text": [
      "Index(['tags', 'pilates', 'name', 'location', 'avg_rating', 'num_ratings',\n",
      "       'meditation', 'cycling', 'outdoors', 'personal training', 'rowing',\n",
      "       'boxing', 'dance', 'sports recovery', 'low-impact training',\n",
      "       'strength training', 'prenatal', 'running', 'gym time', 'swimming',\n",
      "       'barre', 'aerial', 'stretching', 'yoga'],\n",
      "      dtype='object')\n"
     ]
    }
   ],
   "source": [
    "print(df.columns)"
   ]
  },
  {
   "cell_type": "code",
   "execution_count": 32,
   "id": "6eb8fcd9-e6c2-4bb1-9f84-7555a7afdaec",
   "metadata": {},
   "outputs": [
    {
     "name": "stdout",
     "output_type": "stream",
     "text": [
      "<class 'pandas.core.frame.DataFrame'>\n",
      "RangeIndex: 323 entries, 0 to 322\n",
      "Data columns (total 24 columns):\n",
      " #   Column               Non-Null Count  Dtype  \n",
      "---  ------               --------------  -----  \n",
      " 0   tags                 323 non-null    object \n",
      " 1   pilates              323 non-null    int64  \n",
      " 2   name                 323 non-null    object \n",
      " 3   location             323 non-null    object \n",
      " 4   avg_rating           323 non-null    float64\n",
      " 5   num_ratings          323 non-null    int64  \n",
      " 6   meditation           323 non-null    bool   \n",
      " 7   cycling              323 non-null    bool   \n",
      " 8   outdoors             323 non-null    bool   \n",
      " 9   personal training    323 non-null    bool   \n",
      " 10  rowing               323 non-null    bool   \n",
      " 11  boxing               323 non-null    bool   \n",
      " 12  dance                323 non-null    bool   \n",
      " 13  sports recovery      323 non-null    bool   \n",
      " 14  low-impact training  323 non-null    bool   \n",
      " 15  strength training    323 non-null    bool   \n",
      " 16  prenatal             323 non-null    bool   \n",
      " 17  running              323 non-null    bool   \n",
      " 18  gym time             323 non-null    bool   \n",
      " 19  swimming             323 non-null    bool   \n",
      " 20  barre                323 non-null    bool   \n",
      " 21  aerial               323 non-null    bool   \n",
      " 22  stretching           323 non-null    bool   \n",
      " 23  yoga                 323 non-null    bool   \n",
      "dtypes: bool(18), float64(1), int64(2), object(3)\n",
      "memory usage: 20.9+ KB\n"
     ]
    }
   ],
   "source": [
    "df.info()"
   ]
  },
  {
   "cell_type": "markdown",
   "id": "538e5d5d-235a-4a9f-a049-587456a97bc1",
   "metadata": {},
   "source": [
    "Validating that values were correctly extracted as [TRUE, FALSE]"
   ]
  },
  {
   "cell_type": "code",
   "execution_count": 35,
   "id": "1e0bce09-c570-4f84-96bd-d0496db1ad54",
   "metadata": {},
   "outputs": [
    {
     "name": "stdout",
     "output_type": "stream",
     "text": [
      "[1 0]\n",
      "[1 0]\n"
     ]
    }
   ],
   "source": [
    "print(df['pilates'].unique())\n",
    "print(df['strength training'].unique())"
   ]
  },
  {
   "cell_type": "markdown",
   "id": "23e4f59a-d762-46c7-a445-9155098c712e",
   "metadata": {},
   "source": [
    "The rest of the tags were safely extracted and transformed into boolean features without affecting the 'pilates' column. Now I can continue by converting them into integers in order to include them further in my analysis."
   ]
  },
  {
   "cell_type": "code",
   "execution_count": 34,
   "id": "e7671746-3a47-4c60-b91e-6c097ac173c7",
   "metadata": {},
   "outputs": [],
   "source": [
    "df['meditation'] = df['meditation'].astype(\"int64\")\n",
    "df['cycling'] = df['cycling'].astype(\"int64\")\n",
    "df['outdoors'] = df['outdoors'].astype(\"int64\")\n",
    "df['personal training'] = df['personal training'].astype(\"int64\")\n",
    "df['rowing'] = df['rowing'].astype(\"int64\")\n",
    "df['boxing'] = df['boxing'].astype(\"int64\")\n",
    "df['dance'] = df['dance'].astype(\"int64\")\n",
    "df['sports recovery'] = df['sports recovery'].astype(\"int64\")\n",
    "df['low-impact training'] = df['low-impact training'].astype(\"int64\")\n",
    "df['strength training'] = df['strength training'].astype(\"int64\")\n",
    "df['prenatal'] = df['prenatal'].astype(\"int64\")\n",
    "df['running'] = df['running'].astype(\"int64\")\n",
    "df['gym time'] = df['gym time'].astype(\"int64\")\n",
    "df['swimming'] = df['swimming'].astype(\"int64\")\n",
    "df['barre'] = df['barre'].astype(\"int64\")\n",
    "df['aerial'] = df['aerial'].astype(\"int64\")\n",
    "df['stretching'] = df['stretching'].astype(\"int64\")\n",
    "df['yoga'] = df['yoga'].astype(\"int64\")"
   ]
  },
  {
   "cell_type": "code",
   "execution_count": 36,
   "id": "dc3b976f-0239-46a2-b845-315b818ba1e5",
   "metadata": {},
   "outputs": [
    {
     "data": {
      "text/html": [
       "<div>\n",
       "<style scoped>\n",
       "    .dataframe tbody tr th:only-of-type {\n",
       "        vertical-align: middle;\n",
       "    }\n",
       "\n",
       "    .dataframe tbody tr th {\n",
       "        vertical-align: top;\n",
       "    }\n",
       "\n",
       "    .dataframe thead th {\n",
       "        text-align: right;\n",
       "    }\n",
       "</style>\n",
       "<table border=\"1\" class=\"dataframe\">\n",
       "  <thead>\n",
       "    <tr style=\"text-align: right;\">\n",
       "      <th></th>\n",
       "      <th>tags</th>\n",
       "      <th>pilates</th>\n",
       "      <th>name</th>\n",
       "      <th>location</th>\n",
       "      <th>avg_rating</th>\n",
       "      <th>num_ratings</th>\n",
       "      <th>meditation</th>\n",
       "      <th>cycling</th>\n",
       "      <th>outdoors</th>\n",
       "      <th>personal training</th>\n",
       "      <th>...</th>\n",
       "      <th>low-impact training</th>\n",
       "      <th>strength training</th>\n",
       "      <th>prenatal</th>\n",
       "      <th>running</th>\n",
       "      <th>gym time</th>\n",
       "      <th>swimming</th>\n",
       "      <th>barre</th>\n",
       "      <th>aerial</th>\n",
       "      <th>stretching</th>\n",
       "      <th>yoga</th>\n",
       "    </tr>\n",
       "  </thead>\n",
       "  <tbody>\n",
       "    <tr>\n",
       "      <th>0</th>\n",
       "      <td>[pilates, strength training]</td>\n",
       "      <td>1</td>\n",
       "      <td>BLOK</td>\n",
       "      <td>Hearn St, London</td>\n",
       "      <td>4.8</td>\n",
       "      <td>30000</td>\n",
       "      <td>0</td>\n",
       "      <td>0</td>\n",
       "      <td>0</td>\n",
       "      <td>0</td>\n",
       "      <td>...</td>\n",
       "      <td>0</td>\n",
       "      <td>1</td>\n",
       "      <td>0</td>\n",
       "      <td>0</td>\n",
       "      <td>0</td>\n",
       "      <td>0</td>\n",
       "      <td>0</td>\n",
       "      <td>0</td>\n",
       "      <td>0</td>\n",
       "      <td>0</td>\n",
       "    </tr>\n",
       "    <tr>\n",
       "      <th>1</th>\n",
       "      <td>[yoga, strength training]</td>\n",
       "      <td>0</td>\n",
       "      <td>Mission E1</td>\n",
       "      <td>7-9 Fashion Street, London</td>\n",
       "      <td>4.9</td>\n",
       "      <td>20000</td>\n",
       "      <td>0</td>\n",
       "      <td>0</td>\n",
       "      <td>0</td>\n",
       "      <td>0</td>\n",
       "      <td>...</td>\n",
       "      <td>0</td>\n",
       "      <td>1</td>\n",
       "      <td>0</td>\n",
       "      <td>0</td>\n",
       "      <td>0</td>\n",
       "      <td>0</td>\n",
       "      <td>0</td>\n",
       "      <td>0</td>\n",
       "      <td>0</td>\n",
       "      <td>1</td>\n",
       "    </tr>\n",
       "    <tr>\n",
       "      <th>2</th>\n",
       "      <td>[strength training, pilates]</td>\n",
       "      <td>1</td>\n",
       "      <td>BLOK</td>\n",
       "      <td>The Tram Depot, 38-40 Upper Clapton Rd, London</td>\n",
       "      <td>4.8</td>\n",
       "      <td>30000</td>\n",
       "      <td>0</td>\n",
       "      <td>0</td>\n",
       "      <td>0</td>\n",
       "      <td>0</td>\n",
       "      <td>...</td>\n",
       "      <td>0</td>\n",
       "      <td>1</td>\n",
       "      <td>0</td>\n",
       "      <td>0</td>\n",
       "      <td>0</td>\n",
       "      <td>0</td>\n",
       "      <td>0</td>\n",
       "      <td>0</td>\n",
       "      <td>0</td>\n",
       "      <td>0</td>\n",
       "    </tr>\n",
       "    <tr>\n",
       "      <th>3</th>\n",
       "      <td>[cycling, yoga]</td>\n",
       "      <td>0</td>\n",
       "      <td>3Tribes - Crouch End</td>\n",
       "      <td>71 Crouch End Hill, London</td>\n",
       "      <td>4.9</td>\n",
       "      <td>30000</td>\n",
       "      <td>0</td>\n",
       "      <td>1</td>\n",
       "      <td>0</td>\n",
       "      <td>0</td>\n",
       "      <td>...</td>\n",
       "      <td>0</td>\n",
       "      <td>0</td>\n",
       "      <td>0</td>\n",
       "      <td>0</td>\n",
       "      <td>0</td>\n",
       "      <td>0</td>\n",
       "      <td>0</td>\n",
       "      <td>0</td>\n",
       "      <td>0</td>\n",
       "      <td>1</td>\n",
       "    </tr>\n",
       "    <tr>\n",
       "      <th>4</th>\n",
       "      <td>[strength training, boxing]</td>\n",
       "      <td>0</td>\n",
       "      <td>1Rebel</td>\n",
       "      <td>9 Holles Street, London</td>\n",
       "      <td>4.8</td>\n",
       "      <td>30000</td>\n",
       "      <td>0</td>\n",
       "      <td>0</td>\n",
       "      <td>0</td>\n",
       "      <td>0</td>\n",
       "      <td>...</td>\n",
       "      <td>0</td>\n",
       "      <td>1</td>\n",
       "      <td>0</td>\n",
       "      <td>0</td>\n",
       "      <td>0</td>\n",
       "      <td>0</td>\n",
       "      <td>0</td>\n",
       "      <td>0</td>\n",
       "      <td>0</td>\n",
       "      <td>0</td>\n",
       "    </tr>\n",
       "  </tbody>\n",
       "</table>\n",
       "<p>5 rows × 24 columns</p>\n",
       "</div>"
      ],
      "text/plain": [
       "                           tags  pilates                  name  \\\n",
       "0  [pilates, strength training]        1                  BLOK   \n",
       "1     [yoga, strength training]        0            Mission E1   \n",
       "2  [strength training, pilates]        1                  BLOK   \n",
       "3               [cycling, yoga]        0  3Tribes - Crouch End   \n",
       "4   [strength training, boxing]        0                1Rebel   \n",
       "\n",
       "                                         location  avg_rating  num_ratings  \\\n",
       "0                                Hearn St, London         4.8        30000   \n",
       "1                      7-9 Fashion Street, London         4.9        20000   \n",
       "2  The Tram Depot, 38-40 Upper Clapton Rd, London         4.8        30000   \n",
       "3                      71 Crouch End Hill, London         4.9        30000   \n",
       "4                         9 Holles Street, London         4.8        30000   \n",
       "\n",
       "   meditation  cycling  outdoors  personal training  ...  low-impact training  \\\n",
       "0           0        0         0                  0  ...                    0   \n",
       "1           0        0         0                  0  ...                    0   \n",
       "2           0        0         0                  0  ...                    0   \n",
       "3           0        1         0                  0  ...                    0   \n",
       "4           0        0         0                  0  ...                    0   \n",
       "\n",
       "   strength training  prenatal  running  gym time  swimming  barre  aerial  \\\n",
       "0                  1         0        0         0         0      0       0   \n",
       "1                  1         0        0         0         0      0       0   \n",
       "2                  1         0        0         0         0      0       0   \n",
       "3                  0         0        0         0         0      0       0   \n",
       "4                  1         0        0         0         0      0       0   \n",
       "\n",
       "   stretching  yoga  \n",
       "0           0     0  \n",
       "1           0     1  \n",
       "2           0     0  \n",
       "3           0     1  \n",
       "4           0     0  \n",
       "\n",
       "[5 rows x 24 columns]"
      ]
     },
     "execution_count": 36,
     "metadata": {},
     "output_type": "execute_result"
    }
   ],
   "source": [
    "df.head()"
   ]
  },
  {
   "cell_type": "code",
   "execution_count": 37,
   "id": "aa53bacb-86e3-47aa-8ae1-a3ae25720983",
   "metadata": {},
   "outputs": [
    {
     "data": {
      "text/html": [
       "<div>\n",
       "<style scoped>\n",
       "    .dataframe tbody tr th:only-of-type {\n",
       "        vertical-align: middle;\n",
       "    }\n",
       "\n",
       "    .dataframe tbody tr th {\n",
       "        vertical-align: top;\n",
       "    }\n",
       "\n",
       "    .dataframe thead th {\n",
       "        text-align: right;\n",
       "    }\n",
       "</style>\n",
       "<table border=\"1\" class=\"dataframe\">\n",
       "  <thead>\n",
       "    <tr style=\"text-align: right;\">\n",
       "      <th></th>\n",
       "      <th>pilates</th>\n",
       "      <th>avg_rating</th>\n",
       "      <th>num_ratings</th>\n",
       "      <th>meditation</th>\n",
       "      <th>cycling</th>\n",
       "      <th>outdoors</th>\n",
       "      <th>personal training</th>\n",
       "      <th>rowing</th>\n",
       "      <th>boxing</th>\n",
       "      <th>dance</th>\n",
       "      <th>...</th>\n",
       "      <th>low-impact training</th>\n",
       "      <th>strength training</th>\n",
       "      <th>prenatal</th>\n",
       "      <th>running</th>\n",
       "      <th>gym time</th>\n",
       "      <th>swimming</th>\n",
       "      <th>barre</th>\n",
       "      <th>aerial</th>\n",
       "      <th>stretching</th>\n",
       "      <th>yoga</th>\n",
       "    </tr>\n",
       "  </thead>\n",
       "  <tbody>\n",
       "    <tr>\n",
       "      <th>count</th>\n",
       "      <td>323.00</td>\n",
       "      <td>323.00</td>\n",
       "      <td>323.00</td>\n",
       "      <td>323.00</td>\n",
       "      <td>323.00</td>\n",
       "      <td>3.23e+02</td>\n",
       "      <td>3.23e+02</td>\n",
       "      <td>3.23e+02</td>\n",
       "      <td>323.00</td>\n",
       "      <td>323.00</td>\n",
       "      <td>...</td>\n",
       "      <td>323.00</td>\n",
       "      <td>323.00</td>\n",
       "      <td>323.00</td>\n",
       "      <td>3.23e+02</td>\n",
       "      <td>323.00</td>\n",
       "      <td>323.00</td>\n",
       "      <td>323.0</td>\n",
       "      <td>3.23e+02</td>\n",
       "      <td>323.00</td>\n",
       "      <td>323.00</td>\n",
       "    </tr>\n",
       "    <tr>\n",
       "      <th>mean</th>\n",
       "      <td>0.67</td>\n",
       "      <td>4.79</td>\n",
       "      <td>8891.61</td>\n",
       "      <td>0.01</td>\n",
       "      <td>0.05</td>\n",
       "      <td>6.19e-03</td>\n",
       "      <td>9.29e-03</td>\n",
       "      <td>3.10e-03</td>\n",
       "      <td>0.02</td>\n",
       "      <td>0.03</td>\n",
       "      <td>...</td>\n",
       "      <td>0.02</td>\n",
       "      <td>0.35</td>\n",
       "      <td>0.03</td>\n",
       "      <td>3.10e-03</td>\n",
       "      <td>0.12</td>\n",
       "      <td>0.02</td>\n",
       "      <td>0.1</td>\n",
       "      <td>9.29e-03</td>\n",
       "      <td>0.02</td>\n",
       "      <td>0.37</td>\n",
       "    </tr>\n",
       "    <tr>\n",
       "      <th>std</th>\n",
       "      <td>0.47</td>\n",
       "      <td>0.12</td>\n",
       "      <td>10951.75</td>\n",
       "      <td>0.11</td>\n",
       "      <td>0.21</td>\n",
       "      <td>7.86e-02</td>\n",
       "      <td>9.61e-02</td>\n",
       "      <td>5.56e-02</td>\n",
       "      <td>0.14</td>\n",
       "      <td>0.18</td>\n",
       "      <td>...</td>\n",
       "      <td>0.12</td>\n",
       "      <td>0.48</td>\n",
       "      <td>0.16</td>\n",
       "      <td>5.56e-02</td>\n",
       "      <td>0.33</td>\n",
       "      <td>0.14</td>\n",
       "      <td>0.3</td>\n",
       "      <td>9.61e-02</td>\n",
       "      <td>0.15</td>\n",
       "      <td>0.48</td>\n",
       "    </tr>\n",
       "    <tr>\n",
       "      <th>min</th>\n",
       "      <td>0.00</td>\n",
       "      <td>4.30</td>\n",
       "      <td>13.00</td>\n",
       "      <td>0.00</td>\n",
       "      <td>0.00</td>\n",
       "      <td>0.00e+00</td>\n",
       "      <td>0.00e+00</td>\n",
       "      <td>0.00e+00</td>\n",
       "      <td>0.00</td>\n",
       "      <td>0.00</td>\n",
       "      <td>...</td>\n",
       "      <td>0.00</td>\n",
       "      <td>0.00</td>\n",
       "      <td>0.00</td>\n",
       "      <td>0.00e+00</td>\n",
       "      <td>0.00</td>\n",
       "      <td>0.00</td>\n",
       "      <td>0.0</td>\n",
       "      <td>0.00e+00</td>\n",
       "      <td>0.00</td>\n",
       "      <td>0.00</td>\n",
       "    </tr>\n",
       "    <tr>\n",
       "      <th>25%</th>\n",
       "      <td>0.00</td>\n",
       "      <td>4.70</td>\n",
       "      <td>500.00</td>\n",
       "      <td>0.00</td>\n",
       "      <td>0.00</td>\n",
       "      <td>0.00e+00</td>\n",
       "      <td>0.00e+00</td>\n",
       "      <td>0.00e+00</td>\n",
       "      <td>0.00</td>\n",
       "      <td>0.00</td>\n",
       "      <td>...</td>\n",
       "      <td>0.00</td>\n",
       "      <td>0.00</td>\n",
       "      <td>0.00</td>\n",
       "      <td>0.00e+00</td>\n",
       "      <td>0.00</td>\n",
       "      <td>0.00</td>\n",
       "      <td>0.0</td>\n",
       "      <td>0.00e+00</td>\n",
       "      <td>0.00</td>\n",
       "      <td>0.00</td>\n",
       "    </tr>\n",
       "    <tr>\n",
       "      <th>50%</th>\n",
       "      <td>1.00</td>\n",
       "      <td>4.80</td>\n",
       "      <td>2500.00</td>\n",
       "      <td>0.00</td>\n",
       "      <td>0.00</td>\n",
       "      <td>0.00e+00</td>\n",
       "      <td>0.00e+00</td>\n",
       "      <td>0.00e+00</td>\n",
       "      <td>0.00</td>\n",
       "      <td>0.00</td>\n",
       "      <td>...</td>\n",
       "      <td>0.00</td>\n",
       "      <td>0.00</td>\n",
       "      <td>0.00</td>\n",
       "      <td>0.00e+00</td>\n",
       "      <td>0.00</td>\n",
       "      <td>0.00</td>\n",
       "      <td>0.0</td>\n",
       "      <td>0.00e+00</td>\n",
       "      <td>0.00</td>\n",
       "      <td>0.00</td>\n",
       "    </tr>\n",
       "    <tr>\n",
       "      <th>75%</th>\n",
       "      <td>1.00</td>\n",
       "      <td>4.90</td>\n",
       "      <td>16250.00</td>\n",
       "      <td>0.00</td>\n",
       "      <td>0.00</td>\n",
       "      <td>0.00e+00</td>\n",
       "      <td>0.00e+00</td>\n",
       "      <td>0.00e+00</td>\n",
       "      <td>0.00</td>\n",
       "      <td>0.00</td>\n",
       "      <td>...</td>\n",
       "      <td>0.00</td>\n",
       "      <td>1.00</td>\n",
       "      <td>0.00</td>\n",
       "      <td>0.00e+00</td>\n",
       "      <td>0.00</td>\n",
       "      <td>0.00</td>\n",
       "      <td>0.0</td>\n",
       "      <td>0.00e+00</td>\n",
       "      <td>0.00</td>\n",
       "      <td>1.00</td>\n",
       "    </tr>\n",
       "    <tr>\n",
       "      <th>max</th>\n",
       "      <td>1.00</td>\n",
       "      <td>5.00</td>\n",
       "      <td>30000.00</td>\n",
       "      <td>1.00</td>\n",
       "      <td>1.00</td>\n",
       "      <td>1.00e+00</td>\n",
       "      <td>1.00e+00</td>\n",
       "      <td>1.00e+00</td>\n",
       "      <td>1.00</td>\n",
       "      <td>1.00</td>\n",
       "      <td>...</td>\n",
       "      <td>1.00</td>\n",
       "      <td>1.00</td>\n",
       "      <td>1.00</td>\n",
       "      <td>1.00e+00</td>\n",
       "      <td>1.00</td>\n",
       "      <td>1.00</td>\n",
       "      <td>1.0</td>\n",
       "      <td>1.00e+00</td>\n",
       "      <td>1.00</td>\n",
       "      <td>1.00</td>\n",
       "    </tr>\n",
       "  </tbody>\n",
       "</table>\n",
       "<p>8 rows × 21 columns</p>\n",
       "</div>"
      ],
      "text/plain": [
       "       pilates  avg_rating  num_ratings  meditation  cycling  outdoors  \\\n",
       "count   323.00      323.00       323.00      323.00   323.00  3.23e+02   \n",
       "mean      0.67        4.79      8891.61        0.01     0.05  6.19e-03   \n",
       "std       0.47        0.12     10951.75        0.11     0.21  7.86e-02   \n",
       "min       0.00        4.30        13.00        0.00     0.00  0.00e+00   \n",
       "25%       0.00        4.70       500.00        0.00     0.00  0.00e+00   \n",
       "50%       1.00        4.80      2500.00        0.00     0.00  0.00e+00   \n",
       "75%       1.00        4.90     16250.00        0.00     0.00  0.00e+00   \n",
       "max       1.00        5.00     30000.00        1.00     1.00  1.00e+00   \n",
       "\n",
       "       personal training    rowing  boxing   dance  ...  low-impact training  \\\n",
       "count           3.23e+02  3.23e+02  323.00  323.00  ...               323.00   \n",
       "mean            9.29e-03  3.10e-03    0.02    0.03  ...                 0.02   \n",
       "std             9.61e-02  5.56e-02    0.14    0.18  ...                 0.12   \n",
       "min             0.00e+00  0.00e+00    0.00    0.00  ...                 0.00   \n",
       "25%             0.00e+00  0.00e+00    0.00    0.00  ...                 0.00   \n",
       "50%             0.00e+00  0.00e+00    0.00    0.00  ...                 0.00   \n",
       "75%             0.00e+00  0.00e+00    0.00    0.00  ...                 0.00   \n",
       "max             1.00e+00  1.00e+00    1.00    1.00  ...                 1.00   \n",
       "\n",
       "       strength training  prenatal   running  gym time  swimming  barre  \\\n",
       "count             323.00    323.00  3.23e+02    323.00    323.00  323.0   \n",
       "mean                0.35      0.03  3.10e-03      0.12      0.02    0.1   \n",
       "std                 0.48      0.16  5.56e-02      0.33      0.14    0.3   \n",
       "min                 0.00      0.00  0.00e+00      0.00      0.00    0.0   \n",
       "25%                 0.00      0.00  0.00e+00      0.00      0.00    0.0   \n",
       "50%                 0.00      0.00  0.00e+00      0.00      0.00    0.0   \n",
       "75%                 1.00      0.00  0.00e+00      0.00      0.00    0.0   \n",
       "max                 1.00      1.00  1.00e+00      1.00      1.00    1.0   \n",
       "\n",
       "         aerial  stretching    yoga  \n",
       "count  3.23e+02      323.00  323.00  \n",
       "mean   9.29e-03        0.02    0.37  \n",
       "std    9.61e-02        0.15    0.48  \n",
       "min    0.00e+00        0.00    0.00  \n",
       "25%    0.00e+00        0.00    0.00  \n",
       "50%    0.00e+00        0.00    0.00  \n",
       "75%    0.00e+00        0.00    1.00  \n",
       "max    1.00e+00        1.00    1.00  \n",
       "\n",
       "[8 rows x 21 columns]"
      ]
     },
     "execution_count": 37,
     "metadata": {},
     "output_type": "execute_result"
    }
   ],
   "source": [
    "df.describe()"
   ]
  },
  {
   "cell_type": "markdown",
   "id": "707f45f6-6ede-45a3-8283-5172fab8f428",
   "metadata": {},
   "source": [
    "Now I can continue by analysing which sports activity is most popular among ClassPass studios in London and other activities are high-rated in order to further integrate them in my routine."
   ]
  },
  {
   "cell_type": "code",
   "execution_count": 80,
   "id": "895a863a-76f2-4193-9dfd-dfb91374c938",
   "metadata": {},
   "outputs": [
    {
     "name": "stdout",
     "output_type": "stream",
     "text": [
      "pilates                218\n",
      "yoga                   121\n",
      "strength training      112\n",
      "gym time                40\n",
      "barre                   32\n",
      "cycling                 15\n",
      "dance                   11\n",
      "prenatal                 9\n",
      "stretching               7\n",
      "boxing                   6\n",
      "swimming                 6\n",
      "low-impact training      5\n",
      "meditation               4\n",
      "personal training        3\n",
      "aerial                   3\n",
      "outdoors                 2\n",
      "sports recovery          1\n",
      "running                  1\n",
      "rowing                   1\n",
      "dtype: int64\n"
     ]
    }
   ],
   "source": [
    "activity_columns = pd.concat([df.iloc[:, 1:2], df.iloc[:, 6:]], axis=1)\n",
    "\n",
    "activity_counts = activity_columns.sum().sort_values(ascending=False)\n",
    "\n",
    "print(activity_counts)"
   ]
  },
  {
   "cell_type": "code",
   "execution_count": 81,
   "id": "1ab2aa7d-39b0-4517-af2a-a76d9ceadcfa",
   "metadata": {},
   "outputs": [
    {
     "name": "stderr",
     "output_type": "stream",
     "text": [
      "/var/folders/4z/5jqzylvs3lng08w4zk1s9jc80000gn/T/ipykernel_97727/35401435.py:2: FutureWarning: \n",
      "\n",
      "Passing `palette` without assigning `hue` is deprecated and will be removed in v0.14.0. Assign the `x` variable to `hue` and set `legend=False` for the same effect.\n",
      "\n",
      "  sns.barplot(x=activity_counts.index, y=activity_counts.values, palette='viridis')\n"
     ]
    },
    {
     "data": {
      "image/png": "[encoded data removed]",
      "text/plain": [
       "<Figure size 1200x600 with 1 Axes>"
      ]
     },
     "metadata": {},
     "output_type": "display_data"
    }
   ],
   "source": [
    "plt.figure(figsize=(12, 6))\n",
    "sns.barplot(x=activity_counts.index, y=activity_counts.values, palette='viridis')\n",
    "plt.title(\"Number of Studios Offering Each Activity\", fontsize=16)\n",
    "plt.ylabel(\"Number of Studios\")\n",
    "plt.xticks(rotation=45, ha='right')\n",
    "plt.tight_layout()\n",
    "plt.show()"
   ]
  },
  {
   "cell_type": "code",
   "execution_count": 82,
   "id": "27e60141-32fa-4153-a44f-0abe58400915",
   "metadata": {},
   "outputs": [
    {
     "data": {
      "image/png": "[encoded data removed]",
      "text/plain": [
       "<Figure size 1000x600 with 1 Axes>"
      ]
     },
     "metadata": {},
     "output_type": "display_data"
    }
   ],
   "source": [
    "plt.figure(figsize=(10, 6))\n",
    "sns.barplot(x=activity_counts.values, y=activity_counts.index, palette=\"viridis\", hue=activity_counts.index)\n",
    "plt.title(\"Popularity of Class Types\")\n",
    "plt.xlabel(\"Number of Classes\")\n",
    "plt.ylabel(\"\")\n",
    "plt.show()"
   ]
  },
  {
   "cell_type": "markdown",
   "id": "de1daad5-3397-43b4-b7cc-44615d26f43e",
   "metadata": {},
   "source": [
    "#### How many studios offer each type of activity?"
   ]
  },
  {
   "cell_type": "code",
   "execution_count": 97,
   "id": "279477fc-ef42-49de-aced-8bf0554714f4",
   "metadata": {},
   "outputs": [
    {
     "name": "stderr",
     "output_type": "stream",
     "text": [
      "/var/folders/4z/5jqzylvs3lng08w4zk1s9jc80000gn/T/ipykernel_97727/1129196284.py:2: FutureWarning: \n",
      "\n",
      "Passing `palette` without assigning `hue` is deprecated and will be removed in v0.14.0. Assign the `x` variable to `hue` and set `legend=False` for the same effect.\n",
      "\n",
      "  sns.barplot(x=activity_counts.index, y=activity_counts.values, palette='viridis')\n"
     ]
    },
    {
     "data": {
      "image/png": "[encoded data removed]",
      "text/plain": [
       "<Figure size 1200x600 with 1 Axes>"
      ]
     },
     "metadata": {},
     "output_type": "display_data"
    }
   ],
   "source": [
    "plt.figure(figsize=(12, 6))\n",
    "sns.barplot(x=activity_counts.index, y=activity_counts.values, palette='viridis')\n",
    "plt.title(\"Distribution of Activities Offered\", fontsize=16)\n",
    "plt.xlabel(\"\")\n",
    "plt.ylabel(\"Number of Studios\")\n",
    "plt.xticks(rotation=90, ha='right')\n",
    "plt.tight_layout()\n",
    "plt.show()"
   ]
  },
  {
   "cell_type": "code",
   "execution_count": 113,
   "id": "cd00a1d7-45c9-4274-b93b-e3575498584c",
   "metadata": {},
   "outputs": [
    {
     "data": {
      "image/png": "[encoded data removed]",
      "text/plain": [
       "<Figure size 1000x600 with 1 Axes>"
      ]
     },
     "metadata": {},
     "output_type": "display_data"
    }
   ],
   "source": [
    "top_10_studios = df.groupby('name')['num_ratings'].sum().nlargest(10).index\n",
    "\n",
    "# Filter the DataFrame to include only the top 10 studios\n",
    "filtered_df = df[df['name'].isin(top_10_studios)]\n",
    "\n",
    "# Plot the scatterplot\n",
    "plt.figure(figsize=(10, 6))\n",
    "sns.scatterplot(x=filtered_df['num_ratings'], y=filtered_df['avg_rating'], hue=filtered_df['name'], legend=True, palette='Set1')\n",
    "plt.title(\"Average Ratings vs. Number of Ratings\", fontsize=16)\n",
    "plt.xlabel(\"Number of Ratings\")\n",
    "plt.ylabel(\"Average Rating\")\n",
    "plt.tight_layout()\n",
    "plt.show()"
   ]
  },
  {
   "cell_type": "code",
   "execution_count": 49,
   "id": "e92db4fd-ca2f-47e4-b54a-87c811c6660b",
   "metadata": {},
   "outputs": [
    {
     "data": {
      "text/plain": [
       "strength training\n",
       "0    211\n",
       "1    112\n",
       "Name: count, dtype: int64"
      ]
     },
     "execution_count": 49,
     "metadata": {},
     "output_type": "execute_result"
    }
   ],
   "source": [
    "df['strength training'].value_counts()"
   ]
  },
  {
   "cell_type": "code",
   "execution_count": 45,
   "id": "8f0f1da5-a0f3-4823-9abe-f1e49fb8c1bb",
   "metadata": {},
   "outputs": [
    {
     "data": {
      "text/plain": [
       "pilates\n",
       "1    218\n",
       "0    105\n",
       "Name: count, dtype: int64"
      ]
     },
     "execution_count": 45,
     "metadata": {},
     "output_type": "execute_result"
    }
   ],
   "source": [
    "df['pilates'].value_counts()"
   ]
  },
  {
   "cell_type": "markdown",
   "id": "0f769467-44f7-4728-be91-41e63cc97b8f",
   "metadata": {},
   "source": [
    "#### How many studios in London offer both pilates and strength training?"
   ]
  },
  {
   "cell_type": "code",
   "execution_count": 50,
   "id": "6593fcee-db44-43a8-a620-2029bd9c1131",
   "metadata": {},
   "outputs": [
    {
     "name": "stdout",
     "output_type": "stream",
     "text": [
      "24\n",
      "                                    name\n",
      "0                                   BLOK\n",
      "2                                   BLOK\n",
      "5                                 1Rebel\n",
      "6                            Victus Soul\n",
      "7                                 1Rebel\n",
      "8                                 1Rebel\n",
      "9                                 1Rebel\n",
      "11                            Train Yard\n",
      "12                                1Rebel\n",
      "14                                1Rebel\n",
      "22   Training Points Fitness and Therapy\n",
      "36                      Tempo 301 | SE17\n",
      "42                            Studio Fix\n",
      "72                          Guts & Glory\n",
      "88                       Element Fitness\n",
      "116                     Sopers House LTD\n",
      "120                      Core Kensington\n",
      "140                            High Vibe\n",
      "153                   Trent Park Pilates\n",
      "180                    Guardians Studios\n",
      "187                               Oncore\n",
      "198                                  FS8\n",
      "201                    The Shredquarters\n",
      "207                            High Vibe\n",
      "208                        Body By Ciara\n",
      "210                       Bourne Fitness\n",
      "220                               TRIBES\n",
      "233                              Basebox\n",
      "248                                  FS8\n",
      "250                       F.I.T.T STUDIO\n",
      "267                     Clifford Studios\n",
      "269                             FitBirds\n",
      "291           Integrated Movement Studio\n",
      "302     Sertsari Private Training Studio\n",
      "322                                Frame\n"
     ]
    }
   ],
   "source": [
    "# Filter studios offering both Pilates and strength training\n",
    "filtered_studios = df[(df[\"pilates\"] == 1) & (df[\"strength training\"] == 1)]\n",
    "\n",
    "# Get the number of such studios\n",
    "num_studios = filtered_studios.shape[1]\n",
    "print(num_studios)\n",
    "print(filtered_studios[['name']])"
   ]
  },
  {
   "cell_type": "markdown",
   "id": "795709f6-7b7f-4255-a9ab-0987bd545641",
   "metadata": {},
   "source": [
    "#### Which one of the these has the highest rating?"
   ]
  },
  {
   "cell_type": "code",
   "execution_count": 52,
   "id": "d716c133-f232-4fd6-83d5-45afb45229a8",
   "metadata": {},
   "outputs": [
    {
     "name": "stdout",
     "output_type": "stream",
     "text": [
      "tags                                      [pilates, strength training]\n",
      "pilates                                                              1\n",
      "name                                                Trent Park Pilates\n",
      "location               Bramley Rd,Trent Park Equestrian Centre, London\n",
      "avg_rating                                                         5.0\n",
      "num_ratings                                                       1000\n",
      "meditation                                                           0\n",
      "cycling                                                              0\n",
      "outdoors                                                             0\n",
      "personal training                                                    0\n",
      "rowing                                                               0\n",
      "boxing                                                               0\n",
      "dance                                                                0\n",
      "sports recovery                                                      0\n",
      "low-impact training                                                  0\n",
      "strength training                                                    1\n",
      "prenatal                                                             0\n",
      "running                                                              0\n",
      "gym time                                                             0\n",
      "swimming                                                             0\n",
      "barre                                                                0\n",
      "aerial                                                               0\n",
      "stretching                                                           0\n",
      "yoga                                                                 0\n",
      "Name: 153, dtype: object\n"
     ]
    }
   ],
   "source": [
    "# Find the studio with the highest rating\n",
    "highest_rated_studio = filtered_studios.loc[filtered_studios[\"avg_rating\"].idxmax()]\n",
    "print(highest_rated_studio)"
   ]
  },
  {
   "cell_type": "code",
   "execution_count": 78,
   "id": "80d3a124-b861-45b8-bbf9-c22711902d82",
   "metadata": {},
   "outputs": [
    {
     "name": "stdout",
     "output_type": "stream",
     "text": [
      "name                                        Trent Park Pilates\n",
      "avg_rating                                                 5.0\n",
      "num_ratings                                               1000\n",
      "location       Bramley Rd,Trent Park Equestrian Centre, London\n",
      "Name: 153, dtype: object\n"
     ]
    }
   ],
   "source": [
    "# Get the only the relevant details of the studio\n",
    "best_studio = filtered_studios.loc[filtered_studios[\"avg_rating\"].idxmax(), [\"name\", \"avg_rating\", \"num_ratings\", \"location\"]]\n",
    "print(best_studio)\n"
   ]
  },
  {
   "cell_type": "code",
   "execution_count": 60,
   "id": "3f3a360b-5c52-4d84-9650-0fdd69cfa8ce",
   "metadata": {},
   "outputs": [],
   "source": [
    "final_file_path = 'data/class_pass_final.csv'\n",
    "df.to_csv(final_file_path, index=False)"
   ]
  },
  {
   "cell_type": "code",
   "execution_count": 112,
   "id": "0b80506b-6b8c-4323-9793-c20930911b71",
   "metadata": {},
   "outputs": [
    {
     "data": {
      "text/html": [
       "<div>\n",
       "<style scoped>\n",
       "    .dataframe tbody tr th:only-of-type {\n",
       "        vertical-align: middle;\n",
       "    }\n",
       "\n",
       "    .dataframe tbody tr th {\n",
       "        vertical-align: top;\n",
       "    }\n",
       "\n",
       "    .dataframe thead th {\n",
       "        text-align: right;\n",
       "    }\n",
       "</style>\n",
       "<table border=\"1\" class=\"dataframe\">\n",
       "  <thead>\n",
       "    <tr style=\"text-align: right;\">\n",
       "      <th>avg_rating</th>\n",
       "      <th>4.3</th>\n",
       "      <th>4.4</th>\n",
       "      <th>4.5</th>\n",
       "      <th>4.6</th>\n",
       "      <th>4.7</th>\n",
       "      <th>4.8</th>\n",
       "      <th>4.9</th>\n",
       "      <th>5.0</th>\n",
       "      <th>All</th>\n",
       "    </tr>\n",
       "    <tr>\n",
       "      <th>pilates</th>\n",
       "      <th></th>\n",
       "      <th></th>\n",
       "      <th></th>\n",
       "      <th></th>\n",
       "      <th></th>\n",
       "      <th></th>\n",
       "      <th></th>\n",
       "      <th></th>\n",
       "      <th></th>\n",
       "    </tr>\n",
       "  </thead>\n",
       "  <tbody>\n",
       "    <tr>\n",
       "      <th>False</th>\n",
       "      <td>1</td>\n",
       "      <td>3</td>\n",
       "      <td>2</td>\n",
       "      <td>18</td>\n",
       "      <td>22</td>\n",
       "      <td>30</td>\n",
       "      <td>24</td>\n",
       "      <td>5</td>\n",
       "      <td>105</td>\n",
       "    </tr>\n",
       "    <tr>\n",
       "      <th>True</th>\n",
       "      <td>0</td>\n",
       "      <td>1</td>\n",
       "      <td>0</td>\n",
       "      <td>14</td>\n",
       "      <td>40</td>\n",
       "      <td>76</td>\n",
       "      <td>75</td>\n",
       "      <td>12</td>\n",
       "      <td>218</td>\n",
       "    </tr>\n",
       "    <tr>\n",
       "      <th>All</th>\n",
       "      <td>1</td>\n",
       "      <td>4</td>\n",
       "      <td>2</td>\n",
       "      <td>32</td>\n",
       "      <td>62</td>\n",
       "      <td>106</td>\n",
       "      <td>99</td>\n",
       "      <td>17</td>\n",
       "      <td>323</td>\n",
       "    </tr>\n",
       "  </tbody>\n",
       "</table>\n",
       "</div>"
      ],
      "text/plain": [
       "avg_rating  4.3  4.4  4.5  4.6  4.7  4.8  4.9  5.0  All\n",
       "pilates                                                \n",
       "False         1    3    2   18   22   30   24    5  105\n",
       "True          0    1    0   14   40   76   75   12  218\n",
       "All           1    4    2   32   62  106   99   17  323"
      ]
     },
     "execution_count": 112,
     "metadata": {},
     "output_type": "execute_result"
    }
   ],
   "source": [
    "pd.crosstab(df[\"pilates\"] == 1, df[\"avg_rating\"], margins=True)\n"
   ]
  },
  {
   "cell_type": "code",
   "execution_count": 111,
   "id": "e1c8f828-c24b-4a19-a046-2e8957b01036",
   "metadata": {},
   "outputs": [
    {
     "data": {
      "image/png": "[encoded data removed]",
      "text/plain": [
       "<Figure size 640x480 with 1 Axes>"
      ]
     },
     "metadata": {},
     "output_type": "display_data"
    }
   ],
   "source": [
    "sns.countplot(x=\"avg_rating\", hue=\"pilates\", data=df);\n"
   ]
  }
 ],
 "metadata": {
  "kernelspec": {
   "display_name": "Python 3 (ipykernel)",
   "language": "python",
   "name": "python3"
  },
  "language_info": {
   "codemirror_mode": {
    "name": "ipython",
    "version": 3
   },
   "file_extension": ".py",
   "mimetype": "text/x-python",
   "name": "python",
   "nbconvert_exporter": "python",
   "pygments_lexer": "ipython3",
   "version": "3.12.7"
  }
 },
 "nbformat": 4,
 "nbformat_minor": 5
}
